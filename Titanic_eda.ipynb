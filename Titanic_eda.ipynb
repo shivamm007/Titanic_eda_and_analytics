{
  "nbformat": 4,
  "nbformat_minor": 0,
  "metadata": {
    "colab": {
      "name": "Titanic_eda.ipynb",
      "provenance": [],
      "authorship_tag": "ABX9TyN9OvYoPw9Whvp6CGlM5Ny1",
      "include_colab_link": true
    },
    "kernelspec": {
      "name": "python3",
      "display_name": "Python 3"
    },
    "language_info": {
      "name": "python"
    }
  },
  "cells": [
    {
      "cell_type": "markdown",
      "metadata": {
        "id": "view-in-github",
        "colab_type": "text"
      },
      "source": [
        "<a href=\"https://colab.research.google.com/github/shivamm007/Titanic_eda_and_analytics/blob/main/Titanic_eda.ipynb\" target=\"_parent\"><img src=\"https://colab.research.google.com/assets/colab-badge.svg\" alt=\"Open In Colab\"/></a>"
      ]
    },
    {
      "cell_type": "markdown",
      "source": [
        "Here I have done Exploratory Data Analysis and Predicted the outcomes manually by visualizing and interpreting from data, without using any machine learning algorithm and technique and got an accuracy of 81.48% which is quite fair.\n",
        "\n",
        "Data\n",
        "The dataset used in this project is included as titanic_data.csv. This dataset is provided by Udacity and contains the following attributes:\n",
        "\n",
        "Features\n",
        "\n",
        "pclass : Passenger Class (1 = 1st; 2 = 2nd; 3 = 3rd)\n",
        "\n",
        "name : Name\n",
        "\n",
        "sex : Sex\n",
        "\n",
        "age : Age\n",
        "\n",
        "sibsp : Number of Siblings/Spouses Aboard\n",
        "\n",
        "parch : Number of Parents/Children Aboard\n",
        "\n",
        "ticket : Ticket Number\n",
        "\n",
        "fare : Passenger Fare\n",
        "\n",
        "cabin : Cabin\n",
        "\n",
        "embarked : Port of Embarkation (C = Cherbourg; Q = Queenstown; S = Southampton)\n",
        "\n",
        "survival : Survival (0 = No; 1 = Yes)"
      ],
      "metadata": {
        "id": "T0kQS9S0An-L"
      }
    },
    {
      "cell_type": "code",
      "execution_count": 36,
      "metadata": {
        "id": "ccH7PP8S6rSu"
      },
      "outputs": [],
      "source": [
        "import numpy as np\n",
        "import pandas as pd\n",
        "import matplotlib.pyplot as plt\n",
        "import seaborn as sns "
      ]
    },
    {
      "cell_type": "code",
      "source": [
        "titanic_df = pd.read_csv('/content/full.csv')"
      ],
      "metadata": {
        "id": "GVljejjxBFrJ"
      },
      "execution_count": 37,
      "outputs": []
    },
    {
      "cell_type": "code",
      "source": [
        "titanic_df.head(5)"
      ],
      "metadata": {
        "colab": {
          "base_uri": "https://localhost:8080/",
          "height": 595
        },
        "id": "TUZFgGToBFpk",
        "outputId": "fd786576-fec8-4590-b3ad-70f91ea5e909"
      },
      "execution_count": 38,
      "outputs": [
        {
          "output_type": "execute_result",
          "data": {
            "text/plain": [
              "   PassengerId  Survived  Pclass  \\\n",
              "0            1       0.0       3   \n",
              "1            2       1.0       1   \n",
              "2            3       1.0       3   \n",
              "3            4       1.0       1   \n",
              "4            5       0.0       3   \n",
              "\n",
              "                                                Name     Sex   Age  SibSp  \\\n",
              "0                            Braund, Mr. Owen Harris    male  22.0      1   \n",
              "1  Cumings, Mrs. John Bradley (Florence Briggs Th...  female  38.0      1   \n",
              "2                             Heikkinen, Miss. Laina  female  26.0      0   \n",
              "3       Futrelle, Mrs. Jacques Heath (Lily May Peel)  female  35.0      1   \n",
              "4                           Allen, Mr. William Henry    male  35.0      0   \n",
              "\n",
              "   Parch            Ticket     Fare  ... Embarked WikiId  \\\n",
              "0      0         A/5 21171   7.2500  ...        S  691.0   \n",
              "1      0          PC 17599  71.2833  ...        C   90.0   \n",
              "2      0  STON/O2. 3101282   7.9250  ...        S  865.0   \n",
              "3      0            113803  53.1000  ...        S  127.0   \n",
              "4      0            373450   8.0500  ...        S  627.0   \n",
              "\n",
              "                                    Name_wiki Age_wiki  \\\n",
              "0                     Braund, Mr. Owen Harris     22.0   \n",
              "1  Cumings, Mrs. Florence Briggs (née Thayer)     35.0   \n",
              "2                       Heikkinen, Miss Laina     26.0   \n",
              "3          Futrelle, Mrs. Lily May (née Peel)     35.0   \n",
              "4                    Allen, Mr. William Henry     35.0   \n",
              "\n",
              "                             Hometown      Boarded  \\\n",
              "0          Bridgerule, Devon, England  Southampton   \n",
              "1              New York, New York, US    Cherbourg   \n",
              "2                  Jyväskylä, Finland  Southampton   \n",
              "3         Scituate, Massachusetts, US  Southampton   \n",
              "4  Birmingham, West Midlands, England  Southampton   \n",
              "\n",
              "                               Destination Lifeboat Body Class  \n",
              "0  Qu'Appelle Valley, Saskatchewan, Canada      NaN  NaN   3.0  \n",
              "1                   New York, New York, US        4  NaN   1.0  \n",
              "2                            New York City      14?  NaN   3.0  \n",
              "3              Scituate, Massachusetts, US        D  NaN   1.0  \n",
              "4                            New York City      NaN  NaN   3.0  \n",
              "\n",
              "[5 rows x 21 columns]"
            ],
            "text/html": [
              "\n",
              "  <div id=\"df-b08f4559-0900-4532-b0e4-1130af589a9f\">\n",
              "    <div class=\"colab-df-container\">\n",
              "      <div>\n",
              "<style scoped>\n",
              "    .dataframe tbody tr th:only-of-type {\n",
              "        vertical-align: middle;\n",
              "    }\n",
              "\n",
              "    .dataframe tbody tr th {\n",
              "        vertical-align: top;\n",
              "    }\n",
              "\n",
              "    .dataframe thead th {\n",
              "        text-align: right;\n",
              "    }\n",
              "</style>\n",
              "<table border=\"1\" class=\"dataframe\">\n",
              "  <thead>\n",
              "    <tr style=\"text-align: right;\">\n",
              "      <th></th>\n",
              "      <th>PassengerId</th>\n",
              "      <th>Survived</th>\n",
              "      <th>Pclass</th>\n",
              "      <th>Name</th>\n",
              "      <th>Sex</th>\n",
              "      <th>Age</th>\n",
              "      <th>SibSp</th>\n",
              "      <th>Parch</th>\n",
              "      <th>Ticket</th>\n",
              "      <th>Fare</th>\n",
              "      <th>...</th>\n",
              "      <th>Embarked</th>\n",
              "      <th>WikiId</th>\n",
              "      <th>Name_wiki</th>\n",
              "      <th>Age_wiki</th>\n",
              "      <th>Hometown</th>\n",
              "      <th>Boarded</th>\n",
              "      <th>Destination</th>\n",
              "      <th>Lifeboat</th>\n",
              "      <th>Body</th>\n",
              "      <th>Class</th>\n",
              "    </tr>\n",
              "  </thead>\n",
              "  <tbody>\n",
              "    <tr>\n",
              "      <th>0</th>\n",
              "      <td>1</td>\n",
              "      <td>0.0</td>\n",
              "      <td>3</td>\n",
              "      <td>Braund, Mr. Owen Harris</td>\n",
              "      <td>male</td>\n",
              "      <td>22.0</td>\n",
              "      <td>1</td>\n",
              "      <td>0</td>\n",
              "      <td>A/5 21171</td>\n",
              "      <td>7.2500</td>\n",
              "      <td>...</td>\n",
              "      <td>S</td>\n",
              "      <td>691.0</td>\n",
              "      <td>Braund, Mr. Owen Harris</td>\n",
              "      <td>22.0</td>\n",
              "      <td>Bridgerule, Devon, England</td>\n",
              "      <td>Southampton</td>\n",
              "      <td>Qu'Appelle Valley, Saskatchewan, Canada</td>\n",
              "      <td>NaN</td>\n",
              "      <td>NaN</td>\n",
              "      <td>3.0</td>\n",
              "    </tr>\n",
              "    <tr>\n",
              "      <th>1</th>\n",
              "      <td>2</td>\n",
              "      <td>1.0</td>\n",
              "      <td>1</td>\n",
              "      <td>Cumings, Mrs. John Bradley (Florence Briggs Th...</td>\n",
              "      <td>female</td>\n",
              "      <td>38.0</td>\n",
              "      <td>1</td>\n",
              "      <td>0</td>\n",
              "      <td>PC 17599</td>\n",
              "      <td>71.2833</td>\n",
              "      <td>...</td>\n",
              "      <td>C</td>\n",
              "      <td>90.0</td>\n",
              "      <td>Cumings, Mrs. Florence Briggs (née Thayer)</td>\n",
              "      <td>35.0</td>\n",
              "      <td>New York, New York, US</td>\n",
              "      <td>Cherbourg</td>\n",
              "      <td>New York, New York, US</td>\n",
              "      <td>4</td>\n",
              "      <td>NaN</td>\n",
              "      <td>1.0</td>\n",
              "    </tr>\n",
              "    <tr>\n",
              "      <th>2</th>\n",
              "      <td>3</td>\n",
              "      <td>1.0</td>\n",
              "      <td>3</td>\n",
              "      <td>Heikkinen, Miss. Laina</td>\n",
              "      <td>female</td>\n",
              "      <td>26.0</td>\n",
              "      <td>0</td>\n",
              "      <td>0</td>\n",
              "      <td>STON/O2. 3101282</td>\n",
              "      <td>7.9250</td>\n",
              "      <td>...</td>\n",
              "      <td>S</td>\n",
              "      <td>865.0</td>\n",
              "      <td>Heikkinen, Miss Laina</td>\n",
              "      <td>26.0</td>\n",
              "      <td>Jyväskylä, Finland</td>\n",
              "      <td>Southampton</td>\n",
              "      <td>New York City</td>\n",
              "      <td>14?</td>\n",
              "      <td>NaN</td>\n",
              "      <td>3.0</td>\n",
              "    </tr>\n",
              "    <tr>\n",
              "      <th>3</th>\n",
              "      <td>4</td>\n",
              "      <td>1.0</td>\n",
              "      <td>1</td>\n",
              "      <td>Futrelle, Mrs. Jacques Heath (Lily May Peel)</td>\n",
              "      <td>female</td>\n",
              "      <td>35.0</td>\n",
              "      <td>1</td>\n",
              "      <td>0</td>\n",
              "      <td>113803</td>\n",
              "      <td>53.1000</td>\n",
              "      <td>...</td>\n",
              "      <td>S</td>\n",
              "      <td>127.0</td>\n",
              "      <td>Futrelle, Mrs. Lily May (née Peel)</td>\n",
              "      <td>35.0</td>\n",
              "      <td>Scituate, Massachusetts, US</td>\n",
              "      <td>Southampton</td>\n",
              "      <td>Scituate, Massachusetts, US</td>\n",
              "      <td>D</td>\n",
              "      <td>NaN</td>\n",
              "      <td>1.0</td>\n",
              "    </tr>\n",
              "    <tr>\n",
              "      <th>4</th>\n",
              "      <td>5</td>\n",
              "      <td>0.0</td>\n",
              "      <td>3</td>\n",
              "      <td>Allen, Mr. William Henry</td>\n",
              "      <td>male</td>\n",
              "      <td>35.0</td>\n",
              "      <td>0</td>\n",
              "      <td>0</td>\n",
              "      <td>373450</td>\n",
              "      <td>8.0500</td>\n",
              "      <td>...</td>\n",
              "      <td>S</td>\n",
              "      <td>627.0</td>\n",
              "      <td>Allen, Mr. William Henry</td>\n",
              "      <td>35.0</td>\n",
              "      <td>Birmingham, West Midlands, England</td>\n",
              "      <td>Southampton</td>\n",
              "      <td>New York City</td>\n",
              "      <td>NaN</td>\n",
              "      <td>NaN</td>\n",
              "      <td>3.0</td>\n",
              "    </tr>\n",
              "  </tbody>\n",
              "</table>\n",
              "<p>5 rows × 21 columns</p>\n",
              "</div>\n",
              "      <button class=\"colab-df-convert\" onclick=\"convertToInteractive('df-b08f4559-0900-4532-b0e4-1130af589a9f')\"\n",
              "              title=\"Convert this dataframe to an interactive table.\"\n",
              "              style=\"display:none;\">\n",
              "        \n",
              "  <svg xmlns=\"http://www.w3.org/2000/svg\" height=\"24px\"viewBox=\"0 0 24 24\"\n",
              "       width=\"24px\">\n",
              "    <path d=\"M0 0h24v24H0V0z\" fill=\"none\"/>\n",
              "    <path d=\"M18.56 5.44l.94 2.06.94-2.06 2.06-.94-2.06-.94-.94-2.06-.94 2.06-2.06.94zm-11 1L8.5 8.5l.94-2.06 2.06-.94-2.06-.94L8.5 2.5l-.94 2.06-2.06.94zm10 10l.94 2.06.94-2.06 2.06-.94-2.06-.94-.94-2.06-.94 2.06-2.06.94z\"/><path d=\"M17.41 7.96l-1.37-1.37c-.4-.4-.92-.59-1.43-.59-.52 0-1.04.2-1.43.59L10.3 9.45l-7.72 7.72c-.78.78-.78 2.05 0 2.83L4 21.41c.39.39.9.59 1.41.59.51 0 1.02-.2 1.41-.59l7.78-7.78 2.81-2.81c.8-.78.8-2.07 0-2.86zM5.41 20L4 18.59l7.72-7.72 1.47 1.35L5.41 20z\"/>\n",
              "  </svg>\n",
              "      </button>\n",
              "      \n",
              "  <style>\n",
              "    .colab-df-container {\n",
              "      display:flex;\n",
              "      flex-wrap:wrap;\n",
              "      gap: 12px;\n",
              "    }\n",
              "\n",
              "    .colab-df-convert {\n",
              "      background-color: #E8F0FE;\n",
              "      border: none;\n",
              "      border-radius: 50%;\n",
              "      cursor: pointer;\n",
              "      display: none;\n",
              "      fill: #1967D2;\n",
              "      height: 32px;\n",
              "      padding: 0 0 0 0;\n",
              "      width: 32px;\n",
              "    }\n",
              "\n",
              "    .colab-df-convert:hover {\n",
              "      background-color: #E2EBFA;\n",
              "      box-shadow: 0px 1px 2px rgba(60, 64, 67, 0.3), 0px 1px 3px 1px rgba(60, 64, 67, 0.15);\n",
              "      fill: #174EA6;\n",
              "    }\n",
              "\n",
              "    [theme=dark] .colab-df-convert {\n",
              "      background-color: #3B4455;\n",
              "      fill: #D2E3FC;\n",
              "    }\n",
              "\n",
              "    [theme=dark] .colab-df-convert:hover {\n",
              "      background-color: #434B5C;\n",
              "      box-shadow: 0px 1px 3px 1px rgba(0, 0, 0, 0.15);\n",
              "      filter: drop-shadow(0px 1px 2px rgba(0, 0, 0, 0.3));\n",
              "      fill: #FFFFFF;\n",
              "    }\n",
              "  </style>\n",
              "\n",
              "      <script>\n",
              "        const buttonEl =\n",
              "          document.querySelector('#df-b08f4559-0900-4532-b0e4-1130af589a9f button.colab-df-convert');\n",
              "        buttonEl.style.display =\n",
              "          google.colab.kernel.accessAllowed ? 'block' : 'none';\n",
              "\n",
              "        async function convertToInteractive(key) {\n",
              "          const element = document.querySelector('#df-b08f4559-0900-4532-b0e4-1130af589a9f');\n",
              "          const dataTable =\n",
              "            await google.colab.kernel.invokeFunction('convertToInteractive',\n",
              "                                                     [key], {});\n",
              "          if (!dataTable) return;\n",
              "\n",
              "          const docLinkHtml = 'Like what you see? Visit the ' +\n",
              "            '<a target=\"_blank\" href=https://colab.research.google.com/notebooks/data_table.ipynb>data table notebook</a>'\n",
              "            + ' to learn more about interactive tables.';\n",
              "          element.innerHTML = '';\n",
              "          dataTable['output_type'] = 'display_data';\n",
              "          await google.colab.output.renderOutput(dataTable, element);\n",
              "          const docLink = document.createElement('div');\n",
              "          docLink.innerHTML = docLinkHtml;\n",
              "          element.appendChild(docLink);\n",
              "        }\n",
              "      </script>\n",
              "    </div>\n",
              "  </div>\n",
              "  "
            ]
          },
          "metadata": {},
          "execution_count": 38
        }
      ]
    },
    {
      "cell_type": "code",
      "source": [
        "titanic_df.shape"
      ],
      "metadata": {
        "colab": {
          "base_uri": "https://localhost:8080/"
        },
        "id": "MP7sHCN_BFnb",
        "outputId": "7b99d264-f296-492c-ddb2-4dff2a977b4f"
      },
      "execution_count": 39,
      "outputs": [
        {
          "output_type": "execute_result",
          "data": {
            "text/plain": [
              "(1309, 21)"
            ]
          },
          "metadata": {},
          "execution_count": 39
        }
      ]
    },
    {
      "cell_type": "markdown",
      "source": [
        "columns such as PassengerId, Name and Ticket number shouldn't be related to the survival probability"
      ],
      "metadata": {
        "id": "my302Qm_KFR7"
      }
    },
    {
      "cell_type": "code",
      "source": [
        "titanic_df.drop([\"PassengerId\",\"Ticket\",\"Name\"],axis=1,inplace=True)"
      ],
      "metadata": {
        "id": "0pqHg0WoHZ5L"
      },
      "execution_count": 40,
      "outputs": []
    },
    {
      "cell_type": "code",
      "source": [
        "titanic_df.info()"
      ],
      "metadata": {
        "colab": {
          "base_uri": "https://localhost:8080/"
        },
        "id": "q0HwxpDoBFlA",
        "outputId": "846217ba-0b93-414b-a118-b97d85e4fa22"
      },
      "execution_count": 57,
      "outputs": [
        {
          "output_type": "stream",
          "name": "stdout",
          "text": [
            "<class 'pandas.core.frame.DataFrame'>\n",
            "RangeIndex: 1309 entries, 0 to 1308\n",
            "Data columns (total 17 columns):\n",
            " #   Column       Non-Null Count  Dtype  \n",
            "---  ------       --------------  -----  \n",
            " 0   Survived     891 non-null    float64\n",
            " 1   Pclass       1309 non-null   int64  \n",
            " 2   Sex          1309 non-null   object \n",
            " 3   Age          1046 non-null   float64\n",
            " 4   SibSp        1309 non-null   int64  \n",
            " 5   Parch        1309 non-null   int64  \n",
            " 6   Fare         1309 non-null   float64\n",
            " 7   Embarked     1309 non-null   object \n",
            " 8   WikiId       1304 non-null   float64\n",
            " 9   Name_wiki    1304 non-null   object \n",
            " 10  Age_wiki     1302 non-null   float64\n",
            " 11  Hometown     1304 non-null   object \n",
            " 12  Boarded      1304 non-null   object \n",
            " 13  Destination  1304 non-null   object \n",
            " 14  Lifeboat     502 non-null    object \n",
            " 15  Body         130 non-null    object \n",
            " 16  Class        1304 non-null   float64\n",
            "dtypes: float64(6), int64(3), object(8)\n",
            "memory usage: 174.0+ KB\n"
          ]
        }
      ]
    },
    {
      "cell_type": "code",
      "source": [
        "titanic_df['Survived'].astype('category')"
      ],
      "metadata": {
        "colab": {
          "base_uri": "https://localhost:8080/"
        },
        "id": "90Yr5KNFPsH5",
        "outputId": "ee073928-4588-4519-e6d4-f549ec7b2324"
      },
      "execution_count": 58,
      "outputs": [
        {
          "output_type": "stream",
          "name": "stderr",
          "text": [
            "/usr/local/lib/python3.7/dist-packages/pandas/io/formats/format.py:1429: FutureWarning: Index.ravel returning ndarray is deprecated; in a future version this will return a view on self.\n",
            "  for val, m in zip(values.ravel(), mask.ravel())\n"
          ]
        },
        {
          "output_type": "execute_result",
          "data": {
            "text/plain": [
              "0       0.0\n",
              "1       1.0\n",
              "2       1.0\n",
              "3       1.0\n",
              "4       0.0\n",
              "       ... \n",
              "1304    NaN\n",
              "1305    NaN\n",
              "1306    NaN\n",
              "1307    NaN\n",
              "1308    NaN\n",
              "Name: Survived, Length: 1309, dtype: category\n",
              "Categories (2, float64): [0.0, 1.0]"
            ]
          },
          "metadata": {},
          "execution_count": 58
        }
      ]
    },
    {
      "cell_type": "code",
      "source": [
        "titanic_df.describe()"
      ],
      "metadata": {
        "colab": {
          "base_uri": "https://localhost:8080/",
          "height": 300
        },
        "id": "D_R3nUaAKdaX",
        "outputId": "5951962d-7ea4-48b3-b36c-16caa39265a0"
      },
      "execution_count": 42,
      "outputs": [
        {
          "output_type": "execute_result",
          "data": {
            "text/plain": [
              "         Survived       Pclass          Age        SibSp        Parch  \\\n",
              "count  891.000000  1309.000000  1046.000000  1309.000000  1309.000000   \n",
              "mean     0.383838     2.294882    29.881138     0.498854     0.385027   \n",
              "std      0.486592     0.837836    14.413493     1.041658     0.865560   \n",
              "min      0.000000     1.000000     0.170000     0.000000     0.000000   \n",
              "25%      0.000000     2.000000    21.000000     0.000000     0.000000   \n",
              "50%      0.000000     3.000000    28.000000     0.000000     0.000000   \n",
              "75%      1.000000     3.000000    39.000000     1.000000     0.000000   \n",
              "max      1.000000     3.000000    80.000000     8.000000     9.000000   \n",
              "\n",
              "              Fare       WikiId     Age_wiki        Class  \n",
              "count  1308.000000  1304.000000  1302.000000  1304.000000  \n",
              "mean     33.295479   658.534509    29.415829     2.291411  \n",
              "std      51.758668   380.377373    13.758954     0.840852  \n",
              "min       0.000000     1.000000     0.170000     1.000000  \n",
              "25%       7.895800   326.750000    21.000000     1.750000  \n",
              "50%      14.454200   661.500000    28.000000     3.000000  \n",
              "75%      31.275000   987.250000    37.750000     3.000000  \n",
              "max     512.329200  1314.000000    74.000000     3.000000  "
            ],
            "text/html": [
              "\n",
              "  <div id=\"df-67390d7c-5f7f-4fec-b407-b1f8466b2a8f\">\n",
              "    <div class=\"colab-df-container\">\n",
              "      <div>\n",
              "<style scoped>\n",
              "    .dataframe tbody tr th:only-of-type {\n",
              "        vertical-align: middle;\n",
              "    }\n",
              "\n",
              "    .dataframe tbody tr th {\n",
              "        vertical-align: top;\n",
              "    }\n",
              "\n",
              "    .dataframe thead th {\n",
              "        text-align: right;\n",
              "    }\n",
              "</style>\n",
              "<table border=\"1\" class=\"dataframe\">\n",
              "  <thead>\n",
              "    <tr style=\"text-align: right;\">\n",
              "      <th></th>\n",
              "      <th>Survived</th>\n",
              "      <th>Pclass</th>\n",
              "      <th>Age</th>\n",
              "      <th>SibSp</th>\n",
              "      <th>Parch</th>\n",
              "      <th>Fare</th>\n",
              "      <th>WikiId</th>\n",
              "      <th>Age_wiki</th>\n",
              "      <th>Class</th>\n",
              "    </tr>\n",
              "  </thead>\n",
              "  <tbody>\n",
              "    <tr>\n",
              "      <th>count</th>\n",
              "      <td>891.000000</td>\n",
              "      <td>1309.000000</td>\n",
              "      <td>1046.000000</td>\n",
              "      <td>1309.000000</td>\n",
              "      <td>1309.000000</td>\n",
              "      <td>1308.000000</td>\n",
              "      <td>1304.000000</td>\n",
              "      <td>1302.000000</td>\n",
              "      <td>1304.000000</td>\n",
              "    </tr>\n",
              "    <tr>\n",
              "      <th>mean</th>\n",
              "      <td>0.383838</td>\n",
              "      <td>2.294882</td>\n",
              "      <td>29.881138</td>\n",
              "      <td>0.498854</td>\n",
              "      <td>0.385027</td>\n",
              "      <td>33.295479</td>\n",
              "      <td>658.534509</td>\n",
              "      <td>29.415829</td>\n",
              "      <td>2.291411</td>\n",
              "    </tr>\n",
              "    <tr>\n",
              "      <th>std</th>\n",
              "      <td>0.486592</td>\n",
              "      <td>0.837836</td>\n",
              "      <td>14.413493</td>\n",
              "      <td>1.041658</td>\n",
              "      <td>0.865560</td>\n",
              "      <td>51.758668</td>\n",
              "      <td>380.377373</td>\n",
              "      <td>13.758954</td>\n",
              "      <td>0.840852</td>\n",
              "    </tr>\n",
              "    <tr>\n",
              "      <th>min</th>\n",
              "      <td>0.000000</td>\n",
              "      <td>1.000000</td>\n",
              "      <td>0.170000</td>\n",
              "      <td>0.000000</td>\n",
              "      <td>0.000000</td>\n",
              "      <td>0.000000</td>\n",
              "      <td>1.000000</td>\n",
              "      <td>0.170000</td>\n",
              "      <td>1.000000</td>\n",
              "    </tr>\n",
              "    <tr>\n",
              "      <th>25%</th>\n",
              "      <td>0.000000</td>\n",
              "      <td>2.000000</td>\n",
              "      <td>21.000000</td>\n",
              "      <td>0.000000</td>\n",
              "      <td>0.000000</td>\n",
              "      <td>7.895800</td>\n",
              "      <td>326.750000</td>\n",
              "      <td>21.000000</td>\n",
              "      <td>1.750000</td>\n",
              "    </tr>\n",
              "    <tr>\n",
              "      <th>50%</th>\n",
              "      <td>0.000000</td>\n",
              "      <td>3.000000</td>\n",
              "      <td>28.000000</td>\n",
              "      <td>0.000000</td>\n",
              "      <td>0.000000</td>\n",
              "      <td>14.454200</td>\n",
              "      <td>661.500000</td>\n",
              "      <td>28.000000</td>\n",
              "      <td>3.000000</td>\n",
              "    </tr>\n",
              "    <tr>\n",
              "      <th>75%</th>\n",
              "      <td>1.000000</td>\n",
              "      <td>3.000000</td>\n",
              "      <td>39.000000</td>\n",
              "      <td>1.000000</td>\n",
              "      <td>0.000000</td>\n",
              "      <td>31.275000</td>\n",
              "      <td>987.250000</td>\n",
              "      <td>37.750000</td>\n",
              "      <td>3.000000</td>\n",
              "    </tr>\n",
              "    <tr>\n",
              "      <th>max</th>\n",
              "      <td>1.000000</td>\n",
              "      <td>3.000000</td>\n",
              "      <td>80.000000</td>\n",
              "      <td>8.000000</td>\n",
              "      <td>9.000000</td>\n",
              "      <td>512.329200</td>\n",
              "      <td>1314.000000</td>\n",
              "      <td>74.000000</td>\n",
              "      <td>3.000000</td>\n",
              "    </tr>\n",
              "  </tbody>\n",
              "</table>\n",
              "</div>\n",
              "      <button class=\"colab-df-convert\" onclick=\"convertToInteractive('df-67390d7c-5f7f-4fec-b407-b1f8466b2a8f')\"\n",
              "              title=\"Convert this dataframe to an interactive table.\"\n",
              "              style=\"display:none;\">\n",
              "        \n",
              "  <svg xmlns=\"http://www.w3.org/2000/svg\" height=\"24px\"viewBox=\"0 0 24 24\"\n",
              "       width=\"24px\">\n",
              "    <path d=\"M0 0h24v24H0V0z\" fill=\"none\"/>\n",
              "    <path d=\"M18.56 5.44l.94 2.06.94-2.06 2.06-.94-2.06-.94-.94-2.06-.94 2.06-2.06.94zm-11 1L8.5 8.5l.94-2.06 2.06-.94-2.06-.94L8.5 2.5l-.94 2.06-2.06.94zm10 10l.94 2.06.94-2.06 2.06-.94-2.06-.94-.94-2.06-.94 2.06-2.06.94z\"/><path d=\"M17.41 7.96l-1.37-1.37c-.4-.4-.92-.59-1.43-.59-.52 0-1.04.2-1.43.59L10.3 9.45l-7.72 7.72c-.78.78-.78 2.05 0 2.83L4 21.41c.39.39.9.59 1.41.59.51 0 1.02-.2 1.41-.59l7.78-7.78 2.81-2.81c.8-.78.8-2.07 0-2.86zM5.41 20L4 18.59l7.72-7.72 1.47 1.35L5.41 20z\"/>\n",
              "  </svg>\n",
              "      </button>\n",
              "      \n",
              "  <style>\n",
              "    .colab-df-container {\n",
              "      display:flex;\n",
              "      flex-wrap:wrap;\n",
              "      gap: 12px;\n",
              "    }\n",
              "\n",
              "    .colab-df-convert {\n",
              "      background-color: #E8F0FE;\n",
              "      border: none;\n",
              "      border-radius: 50%;\n",
              "      cursor: pointer;\n",
              "      display: none;\n",
              "      fill: #1967D2;\n",
              "      height: 32px;\n",
              "      padding: 0 0 0 0;\n",
              "      width: 32px;\n",
              "    }\n",
              "\n",
              "    .colab-df-convert:hover {\n",
              "      background-color: #E2EBFA;\n",
              "      box-shadow: 0px 1px 2px rgba(60, 64, 67, 0.3), 0px 1px 3px 1px rgba(60, 64, 67, 0.15);\n",
              "      fill: #174EA6;\n",
              "    }\n",
              "\n",
              "    [theme=dark] .colab-df-convert {\n",
              "      background-color: #3B4455;\n",
              "      fill: #D2E3FC;\n",
              "    }\n",
              "\n",
              "    [theme=dark] .colab-df-convert:hover {\n",
              "      background-color: #434B5C;\n",
              "      box-shadow: 0px 1px 3px 1px rgba(0, 0, 0, 0.15);\n",
              "      filter: drop-shadow(0px 1px 2px rgba(0, 0, 0, 0.3));\n",
              "      fill: #FFFFFF;\n",
              "    }\n",
              "  </style>\n",
              "\n",
              "      <script>\n",
              "        const buttonEl =\n",
              "          document.querySelector('#df-67390d7c-5f7f-4fec-b407-b1f8466b2a8f button.colab-df-convert');\n",
              "        buttonEl.style.display =\n",
              "          google.colab.kernel.accessAllowed ? 'block' : 'none';\n",
              "\n",
              "        async function convertToInteractive(key) {\n",
              "          const element = document.querySelector('#df-67390d7c-5f7f-4fec-b407-b1f8466b2a8f');\n",
              "          const dataTable =\n",
              "            await google.colab.kernel.invokeFunction('convertToInteractive',\n",
              "                                                     [key], {});\n",
              "          if (!dataTable) return;\n",
              "\n",
              "          const docLinkHtml = 'Like what you see? Visit the ' +\n",
              "            '<a target=\"_blank\" href=https://colab.research.google.com/notebooks/data_table.ipynb>data table notebook</a>'\n",
              "            + ' to learn more about interactive tables.';\n",
              "          element.innerHTML = '';\n",
              "          dataTable['output_type'] = 'display_data';\n",
              "          await google.colab.output.renderOutput(dataTable, element);\n",
              "          const docLink = document.createElement('div');\n",
              "          docLink.innerHTML = docLinkHtml;\n",
              "          element.appendChild(docLink);\n",
              "        }\n",
              "      </script>\n",
              "    </div>\n",
              "  </div>\n",
              "  "
            ]
          },
          "metadata": {},
          "execution_count": 42
        }
      ]
    },
    {
      "cell_type": "code",
      "source": [
        "titanic_df.nunique()"
      ],
      "metadata": {
        "colab": {
          "base_uri": "https://localhost:8080/"
        },
        "id": "moNelQu8L7LJ",
        "outputId": "9509d72d-1262-4464-a8b9-d6bb55e5663b"
      },
      "execution_count": 43,
      "outputs": [
        {
          "output_type": "execute_result",
          "data": {
            "text/plain": [
              "Survived          2\n",
              "Pclass            3\n",
              "Sex               2\n",
              "Age              98\n",
              "SibSp             7\n",
              "Parch             8\n",
              "Fare            281\n",
              "Cabin           186\n",
              "Embarked          3\n",
              "WikiId         1304\n",
              "Name_wiki      1303\n",
              "Age_wiki         78\n",
              "Hometown        566\n",
              "Boarded           4\n",
              "Destination     291\n",
              "Lifeboat         24\n",
              "Body            130\n",
              "Class             3\n",
              "dtype: int64"
            ]
          },
          "metadata": {},
          "execution_count": 43
        }
      ]
    },
    {
      "cell_type": "code",
      "source": [
        "titanic_df.isnull().sum()"
      ],
      "metadata": {
        "colab": {
          "base_uri": "https://localhost:8080/"
        },
        "id": "P9Qx73gSCaNb",
        "outputId": "0f10f1bb-876b-4ee7-aa6b-c078a10d9d5a"
      },
      "execution_count": 59,
      "outputs": [
        {
          "output_type": "execute_result",
          "data": {
            "text/plain": [
              "Survived        418\n",
              "Pclass            0\n",
              "Sex               0\n",
              "Age             263\n",
              "SibSp             0\n",
              "Parch             0\n",
              "Fare              0\n",
              "Embarked          0\n",
              "WikiId            5\n",
              "Name_wiki         5\n",
              "Age_wiki          7\n",
              "Hometown          5\n",
              "Boarded           5\n",
              "Destination       5\n",
              "Lifeboat        807\n",
              "Body           1179\n",
              "Class             5\n",
              "dtype: int64"
            ]
          },
          "metadata": {},
          "execution_count": 59
        }
      ]
    },
    {
      "cell_type": "code",
      "source": [
        "titanic_df.Fare.fillna(titanic_df.Fare.mean(),inplace=True)"
      ],
      "metadata": {
        "id": "w6dDmtuZCZ7g"
      },
      "execution_count": 45,
      "outputs": []
    },
    {
      "cell_type": "code",
      "source": [
        "titanic_df['Age'].dropna(inplace = True)"
      ],
      "metadata": {
        "id": "f0S9fGyON57F"
      },
      "execution_count": 50,
      "outputs": []
    },
    {
      "cell_type": "code",
      "source": [
        "titanic_df.drop(columns=['Cabin'],inplace=True)"
      ],
      "metadata": {
        "id": "LTFVcbNoO6Xy"
      },
      "execution_count": 52,
      "outputs": []
    },
    {
      "cell_type": "code",
      "source": [
        "titanic_df['Embarked'].describe()"
      ],
      "metadata": {
        "colab": {
          "base_uri": "https://localhost:8080/"
        },
        "id": "oBvqem2uPSxg",
        "outputId": "68325d1a-6be3-4d5e-9ee4-18cea1f9249d"
      },
      "execution_count": 53,
      "outputs": [
        {
          "output_type": "execute_result",
          "data": {
            "text/plain": [
              "count     1307\n",
              "unique       3\n",
              "top          S\n",
              "freq       914\n",
              "Name: Embarked, dtype: object"
            ]
          },
          "metadata": {},
          "execution_count": 53
        }
      ]
    },
    {
      "cell_type": "code",
      "source": [
        "titanic_df['Age'].max()"
      ],
      "metadata": {
        "colab": {
          "base_uri": "https://localhost:8080/"
        },
        "id": "5FGrAQK2TeGr",
        "outputId": "112010f3-32c7-4f8d-a170-a982770a7b03"
      },
      "execution_count": 72,
      "outputs": [
        {
          "output_type": "execute_result",
          "data": {
            "text/plain": [
              "80.0"
            ]
          },
          "metadata": {},
          "execution_count": 72
        }
      ]
    },
    {
      "cell_type": "code",
      "source": [
        "#we will simply fill it up with the most common value, that is 'S'\n",
        "titanic_df['Embarked'].fillna('S',inplace=True)"
      ],
      "metadata": {
        "id": "0b2rgyHLO6QY"
      },
      "execution_count": 54,
      "outputs": []
    },
    {
      "cell_type": "code",
      "source": [
        "titanic_df['Pclass']=titanic_df['Pclass'].astype('object')\n",
        "titanic_df['Pclass'].replace({1:'Upper Class',2:'Middle Class',3:'Lower Class'},inplace=True)"
      ],
      "metadata": {
        "id": "ub2G1ULdQzXF"
      },
      "execution_count": 62,
      "outputs": []
    },
    {
      "cell_type": "code",
      "source": [
        "# Number of passengers in each class\n",
        "titanic_df.groupby('Pclass')['Pclass'].count()"
      ],
      "metadata": {
        "colab": {
          "base_uri": "https://localhost:8080/"
        },
        "id": "pGlhIMf8BFjB",
        "outputId": "fa29c9ee-53ff-49e5-de34-63858f43e5a7"
      },
      "execution_count": 15,
      "outputs": [
        {
          "output_type": "execute_result",
          "data": {
            "text/plain": [
              "Pclass\n",
              "1    323\n",
              "2    277\n",
              "3    709\n",
              "Name: Pclass, dtype: int64"
            ]
          },
          "metadata": {},
          "execution_count": 15
        }
      ]
    },
    {
      "cell_type": "code",
      "source": [
        "titanic_df.groupby('Sex')['Sex'].count()"
      ],
      "metadata": {
        "colab": {
          "base_uri": "https://localhost:8080/"
        },
        "id": "fE_O2odlBFhI",
        "outputId": "6731fe94-2184-40d6-e840-b526ee4ea593"
      },
      "execution_count": 16,
      "outputs": [
        {
          "output_type": "execute_result",
          "data": {
            "text/plain": [
              "Sex\n",
              "female    466\n",
              "male      843\n",
              "Name: Sex, dtype: int64"
            ]
          },
          "metadata": {},
          "execution_count": 16
        }
      ]
    },
    {
      "cell_type": "code",
      "source": [
        "sns.countplot(x='Sex',hue='Survived',data=titanic_df)"
      ],
      "metadata": {
        "colab": {
          "base_uri": "https://localhost:8080/",
          "height": 296
        },
        "id": "Q9XtBtNGBFfA",
        "outputId": "cbccc8ca-770b-46f2-84bb-7c4af2a1ffec"
      },
      "execution_count": 60,
      "outputs": [
        {
          "output_type": "execute_result",
          "data": {
            "text/plain": [
              "<matplotlib.axes._subplots.AxesSubplot at 0x7f966b489e50>"
            ]
          },
          "metadata": {},
          "execution_count": 60
        },
        {
          "output_type": "display_data",
          "data": {
            "text/plain": [
              "<Figure size 432x288 with 1 Axes>"
            ],
            "image/png": "[encoded data removed]"
          },
          "metadata": {
            "needs_background": "light"
          }
        }
      ]
    },
    {
      "cell_type": "code",
      "source": [
        "sns.barplot(x='Pclass',y='Survived',hue='Sex',data=titanic_df)\n",
        "plt.title('Class vs Survived')\n",
        "plt.show()"
      ],
      "metadata": {
        "colab": {
          "base_uri": "https://localhost:8080/",
          "height": 295
        },
        "id": "HWdkI2qmBFcw",
        "outputId": "033361d5-1fa0-4da8-fc48-598d2194cb48"
      },
      "execution_count": 64,
      "outputs": [
        {
          "output_type": "display_data",
          "data": {
            "text/plain": [
              "<Figure size 432x288 with 1 Axes>"
            ],
            "image/png": "[encoded data removed]"
          },
          "metadata": {
            "needs_background": "light"
          }
        }
      ]
    },
    {
      "cell_type": "code",
      "source": [
        "sns.set_style(\"whitegrid\")\n",
        "sns.distplot(titanic_df['Age'])\n",
        "plt.title('Age Distribution plot')\n",
        "plt.xlabel('Age')"
      ],
      "metadata": {
        "colab": {
          "base_uri": "https://localhost:8080/",
          "height": 402
        },
        "id": "k_dSMiU3BFYq",
        "outputId": "93bf394b-8b74-49f1-8e5b-0d6b8d6788f8"
      },
      "execution_count": 69,
      "outputs": [
        {
          "output_type": "stream",
          "name": "stderr",
          "text": [
            "/usr/local/lib/python3.7/dist-packages/seaborn/distributions.py:2619: FutureWarning:\n",
            "\n",
            "`distplot` is a deprecated function and will be removed in a future version. Please adapt your code to use either `displot` (a figure-level function with similar flexibility) or `histplot` (an axes-level function for histograms).\n",
            "\n"
          ]
        },
        {
          "output_type": "execute_result",
          "data": {
            "text/plain": [
              "Text(0.5, 0, 'Age')"
            ]
          },
          "metadata": {},
          "execution_count": 69
        },
        {
          "output_type": "display_data",
          "data": {
            "text/plain": [
              "<Figure size 432x288 with 1 Axes>"
            ],
            "image/png": "[encoded data removed]"
          },
          "metadata": {}
        }
      ]
    },
    {
      "cell_type": "code",
      "source": [
        "sns.scatterplot(x = 'Age', y = 'Fare', data = titanic_df)\n",
        "plt.title('Scatter Plot')"
      ],
      "metadata": {
        "colab": {
          "base_uri": "https://localhost:8080/",
          "height": 312
        },
        "id": "0sfdTPRkBFWl",
        "outputId": "2e37f873-a27c-4672-f17f-12baf80927b6"
      },
      "execution_count": 70,
      "outputs": [
        {
          "output_type": "execute_result",
          "data": {
            "text/plain": [
              "Text(0.5, 1.0, 'Scatter Plot')"
            ]
          },
          "metadata": {},
          "execution_count": 70
        },
        {
          "output_type": "display_data",
          "data": {
            "text/plain": [
              "<Figure size 432x288 with 1 Axes>"
            ],
            "image/png": "[encoded data removed]"
          },
          "metadata": {}
        }
      ]
    },
    {
      "cell_type": "code",
      "source": [
        "px.scatter(data_frame=titanic_df,x='Pclass',y='Fare')"
      ],
      "metadata": {
        "colab": {
          "base_uri": "https://localhost:8080/",
          "height": 542
        },
        "id": "kSLrltdtBFQ2",
        "outputId": "f9f555e2-b44b-41bb-ab75-e763c0af01b0"
      },
      "execution_count": 71,
      "outputs": [
        {
          "output_type": "display_data",
          "data": {
            "text/html": [
              "<html>\n",
              "<head><meta charset=\"utf-8\" /></head>\n",
              "<body>\n",
              "    <div>            <script src=\"https://cdnjs.cloudflare.com/ajax/libs/mathjax/2.7.5/MathJax.js?config=TeX-AMS-MML_SVG\"></script><script type=\"text/javascript\">if (window.MathJax) {MathJax.Hub.Config({SVG: {font: \"STIX-Web\"}});}</script>                <script type=\"text/javascript\">window.PlotlyConfig = {MathJaxConfig: 'local'};</script>\n",
              "        <script src=\"https://cdn.plot.ly/plotly-2.8.3.min.js\"></script>                <div id=\"129ee735-6cec-4af9-a2e8-5a9a8c8493d5\" class=\"plotly-graph-div\" style=\"height:525px; width:100%;\"></div>            <script type=\"text/javascript\">                                    window.PLOTLYENV=window.PLOTLYENV || {};                                    if (document.getElementById(\"129ee735-6cec-4af9-a2e8-5a9a8c8493d5\")) {                    Plotly.newPlot(                        \"129ee735-6cec-4af9-a2e8-5a9a8c8493d5\",                        [{\"hovertemplate\":\"Pclass=%{x}<br>Fare=%{y}<extra></extra>\",\"legendgroup\":\"\",\"marker\":{\"color\":\"#636efa\",\"symbol\":\"circle\"},\"mode\":\"markers\",\"name\":\"\",\"showlegend\":false,\"x\":[\"Lower Class\",\"Upper Class\",\"Lower Class\",\"Upper Class\",\"Lower Class\",\"Lower Class\",\"Upper Class\",\"Lower Class\",\"Lower Class\",\"Middle Class\",\"Lower Class\",\"Upper Class\",\"Lower Class\",\"Lower Class\",\"Lower Class\",\"Middle Class\",\"Lower Class\",\"Middle Class\",\"Lower Class\",\"Lower Class\",\"Middle Class\",\"Middle Class\",\"Lower Class\",\"Upper Class\",\"Lower Class\",\"Lower Class\",\"Lower Class\",\"Upper Class\",\"Lower Class\",\"Lower Class\",\"Upper Class\",\"Upper Class\",\"Lower Class\",\"Middle Class\",\"Upper Class\",\"Upper Class\",\"Lower Class\",\"Lower Class\",\"Lower Class\",\"Lower Class\",\"Lower Class\",\"Middle Class\",\"Lower Class\",\"Middle Class\",\"Lower Class\",\"Lower Class\",\"Lower Class\",\"Lower Class\",\"Lower Class\",\"Lower Class\",\"Lower Class\",\"Lower Class\",\"Upper Class\",\"Middle Class\",\"Upper Class\",\"Upper Class\",\"Middle Class\",\"Lower Class\",\"Middle Class\",\"Lower Class\",\"Lower Class\",\"Upper Class\",\"Upper Class\",\"Lower Class\",\"Upper Class\",\"Lower Class\",\"Middle Class\",\"Lower Class\",\"Lower Class\",\"Lower Class\",\"Middle Class\",\"Lower Class\",\"Middle Class\",\"Lower Class\",\"Lower Class\",\"Lower Class\",\"Lower Class\",\"Lower Class\",\"Middle Class\",\"Lower Class\",\"Lower Class\",\"Lower Class\",\"Lower Class\",\"Upper Class\",\"Middle Class\",\"Lower Class\",\"Lower Class\",\"Lower Class\",\"Upper Class\",\"Lower Class\",\"Lower Class\",\"Lower Class\",\"Upper Class\",\"Lower Class\",\"Lower Class\",\"Lower Class\",\"Upper Class\",\"Upper Class\",\"Middle Class\",\"Middle Class\",\"Lower Class\",\"Lower Class\",\"Upper Class\",\"Lower Class\",\"Lower Class\",\"Lower Class\",\"Lower Class\",\"Lower Class\",\"Lower Class\",\"Lower Class\",\"Upper Class\",\"Lower Class\",\"Lower Class\",\"Lower Class\",\"Lower Class\",\"Lower Class\",\"Lower Class\",\"Middle Class\",\"Upper Class\",\"Lower Class\",\"Middle Class\",\"Lower Class\",\"Middle Class\",\"Middle Class\",\"Upper Class\",\"Lower Class\",\"Lower Class\",\"Lower Class\",\"Lower Class\",\"Lower Class\",\"Lower Class\",\"Lower Class\",\"Lower Class\",\"Middle Class\",\"Middle Class\",\"Middle Class\",\"Upper Class\",\"Upper Class\",\"Lower Class\",\"Upper Class\",\"Lower Class\",\"Lower Class\",\"Lower Class\",\"Lower Class\",\"Middle Class\",\"Middle Class\",\"Lower Class\",\"Lower Class\",\"Middle Class\",\"Middle Class\",\"Middle Class\",\"Upper Class\",\"Lower Class\",\"Lower Class\",\"Lower Class\",\"Upper Class\",\"Lower Class\",\"Lower Class\",\"Lower Class\",\"Lower Class\",\"Lower Class\",\"Middle Class\",\"Lower Class\",\"Lower Class\",\"Lower Class\",\"Lower Class\",\"Upper Class\",\"Lower Class\",\"Upper Class\",\"Lower Class\",\"Upper Class\",\"Lower Class\",\"Lower Class\",\"Lower Class\",\"Upper Class\",\"Lower Class\",\"Lower Class\",\"Upper Class\",\"Middle Class\",\"Lower Class\",\"Lower Class\",\"Middle Class\",\"Lower Class\",\"Middle Class\",\"Lower Class\",\"Upper Class\",\"Lower Class\",\"Upper Class\",\"Lower Class\",\"Lower Class\",\"Middle Class\",\"Middle Class\",\"Lower Class\",\"Middle Class\",\"Upper Class\",\"Upper Class\",\"Lower Class\",\"Lower Class\",\"Lower Class\",\"Middle Class\",\"Lower Class\",\"Lower Class\",\"Lower Class\",\"Lower Class\",\"Lower Class\",\"Lower Class\",\"Lower Class\",\"Lower Class\",\"Lower Class\",\"Upper Class\",\"Lower Class\",\"Middle Class\",\"Lower Class\",\"Middle Class\",\"Lower Class\",\"Upper Class\",\"Lower Class\",\"Middle Class\",\"Upper Class\",\"Middle Class\",\"Lower Class\",\"Middle Class\",\"Lower Class\",\"Lower Class\",\"Upper Class\",\"Lower Class\",\"Middle Class\",\"Lower Class\",\"Middle Class\",\"Lower Class\",\"Upper Class\",\"Lower Class\",\"Middle Class\",\"Lower Class\",\"Middle Class\",\"Lower Class\",\"Middle Class\",\"Middle Class\",\"Middle Class\",\"Middle Class\",\"Lower Class\",\"Lower Class\",\"Middle Class\",\"Lower Class\",\"Lower Class\",\"Upper Class\",\"Lower Class\",\"Middle Class\",\"Upper Class\",\"Middle Class\",\"Lower Class\",\"Lower Class\",\"Upper Class\",\"Lower Class\",\"Lower Class\",\"Lower Class\",\"Upper Class\",\"Upper Class\",\"Upper Class\",\"Middle Class\",\"Lower Class\",\"Lower Class\",\"Upper Class\",\"Upper Class\",\"Lower Class\",\"Middle Class\",\"Lower Class\",\"Lower Class\",\"Upper Class\",\"Upper Class\",\"Upper Class\",\"Lower Class\",\"Middle Class\",\"Upper Class\",\"Lower Class\",\"Upper Class\",\"Lower Class\",\"Middle Class\",\"Lower Class\",\"Lower Class\",\"Lower Class\",\"Lower Class\",\"Lower Class\",\"Lower Class\",\"Upper Class\",\"Lower Class\",\"Lower Class\",\"Lower Class\",\"Middle Class\",\"Lower Class\",\"Upper Class\",\"Upper Class\",\"Middle Class\",\"Lower Class\",\"Lower Class\",\"Upper Class\",\"Lower Class\",\"Upper Class\",\"Upper Class\",\"Upper Class\",\"Lower Class\",\"Lower Class\",\"Lower Class\",\"Middle Class\",\"Lower Class\",\"Upper Class\",\"Upper Class\",\"Upper Class\",\"Middle Class\",\"Upper Class\",\"Upper Class\",\"Upper Class\",\"Middle Class\",\"Lower Class\",\"Middle Class\",\"Lower Class\",\"Middle Class\",\"Middle Class\",\"Upper Class\",\"Upper Class\",\"Lower Class\",\"Lower Class\",\"Middle Class\",\"Middle Class\",\"Lower Class\",\"Upper Class\",\"Lower Class\",\"Middle Class\",\"Lower Class\",\"Upper Class\",\"Lower Class\",\"Upper Class\",\"Upper Class\",\"Lower Class\",\"Upper Class\",\"Lower Class\",\"Upper Class\",\"Upper Class\",\"Lower Class\",\"Upper Class\",\"Middle Class\",\"Upper Class\",\"Middle Class\",\"Middle Class\",\"Middle Class\",\"Middle Class\",\"Middle Class\",\"Lower Class\",\"Lower Class\",\"Lower Class\",\"Lower Class\",\"Upper Class\",\"Lower Class\",\"Lower Class\",\"Lower Class\",\"Lower Class\",\"Upper Class\",\"Middle Class\",\"Lower Class\",\"Lower Class\",\"Lower Class\",\"Middle Class\",\"Lower Class\",\"Lower Class\",\"Lower Class\",\"Lower Class\",\"Upper Class\",\"Lower Class\",\"Lower Class\",\"Upper Class\",\"Upper Class\",\"Lower Class\",\"Lower Class\",\"Upper Class\",\"Lower Class\",\"Upper Class\",\"Lower Class\",\"Upper Class\",\"Lower Class\",\"Lower Class\",\"Upper Class\",\"Lower Class\",\"Lower Class\",\"Upper Class\",\"Lower Class\",\"Middle Class\",\"Lower Class\",\"Middle Class\",\"Lower Class\",\"Middle Class\",\"Upper Class\",\"Lower Class\",\"Lower Class\",\"Upper Class\",\"Lower Class\",\"Lower Class\",\"Lower Class\",\"Middle Class\",\"Middle Class\",\"Middle Class\",\"Lower Class\",\"Lower Class\",\"Lower Class\",\"Lower Class\",\"Lower Class\",\"Middle Class\",\"Lower Class\",\"Middle Class\",\"Lower Class\",\"Lower Class\",\"Lower Class\",\"Lower Class\",\"Upper Class\",\"Middle Class\",\"Lower Class\",\"Lower Class\",\"Middle Class\",\"Middle Class\",\"Middle Class\",\"Lower Class\",\"Lower Class\",\"Lower Class\",\"Lower Class\",\"Lower Class\",\"Lower Class\",\"Lower Class\",\"Middle Class\",\"Middle Class\",\"Lower Class\",\"Lower Class\",\"Upper Class\",\"Lower Class\",\"Middle Class\",\"Lower Class\",\"Upper Class\",\"Upper Class\",\"Lower Class\",\"Middle Class\",\"Upper Class\",\"Middle Class\",\"Middle Class\",\"Lower Class\",\"Lower Class\",\"Middle Class\",\"Lower Class\",\"Upper Class\",\"Middle Class\",\"Upper Class\",\"Lower Class\",\"Upper Class\",\"Middle Class\",\"Lower Class\",\"Upper Class\",\"Upper Class\",\"Lower Class\",\"Lower Class\",\"Upper Class\",\"Upper Class\",\"Middle Class\",\"Lower Class\",\"Upper Class\",\"Lower Class\",\"Upper Class\",\"Middle Class\",\"Lower Class\",\"Lower Class\",\"Middle Class\",\"Upper Class\",\"Lower Class\",\"Lower Class\",\"Lower Class\",\"Lower Class\",\"Middle Class\",\"Middle Class\",\"Lower Class\",\"Upper Class\",\"Middle Class\",\"Lower Class\",\"Lower Class\",\"Lower Class\",\"Lower Class\",\"Middle Class\",\"Lower Class\",\"Lower Class\",\"Upper Class\",\"Lower Class\",\"Upper Class\",\"Upper Class\",\"Lower Class\",\"Lower Class\",\"Lower Class\",\"Lower Class\",\"Upper Class\",\"Upper Class\",\"Lower Class\",\"Lower Class\",\"Upper Class\",\"Lower Class\",\"Upper Class\",\"Lower Class\",\"Lower Class\",\"Lower Class\",\"Lower Class\",\"Lower Class\",\"Upper Class\",\"Upper Class\",\"Middle Class\",\"Upper Class\",\"Lower Class\",\"Lower Class\",\"Lower Class\",\"Lower Class\",\"Upper Class\",\"Upper Class\",\"Lower Class\",\"Upper Class\",\"Middle Class\",\"Lower Class\",\"Middle Class\",\"Lower Class\",\"Upper Class\",\"Lower Class\",\"Lower Class\",\"Upper Class\",\"Lower Class\",\"Lower Class\",\"Middle Class\",\"Upper Class\",\"Lower Class\",\"Middle Class\",\"Middle Class\",\"Lower Class\",\"Lower Class\",\"Lower Class\",\"Lower Class\",\"Middle Class\",\"Upper Class\",\"Upper Class\",\"Lower Class\",\"Upper Class\",\"Upper Class\",\"Lower Class\",\"Lower Class\",\"Middle Class\",\"Upper Class\",\"Upper Class\",\"Middle Class\",\"Middle Class\",\"Lower Class\",\"Middle Class\",\"Upper Class\",\"Middle Class\",\"Lower Class\",\"Lower Class\",\"Lower Class\",\"Upper Class\",\"Upper Class\",\"Upper Class\",\"Upper Class\",\"Lower Class\",\"Lower Class\",\"Lower Class\",\"Middle Class\",\"Lower Class\",\"Lower Class\",\"Lower Class\",\"Lower Class\",\"Lower Class\",\"Lower Class\",\"Lower Class\",\"Middle Class\",\"Upper Class\",\"Upper Class\",\"Lower Class\",\"Lower Class\",\"Lower Class\",\"Middle Class\",\"Upper Class\",\"Lower Class\",\"Lower Class\",\"Middle Class\",\"Upper Class\",\"Middle Class\",\"Upper Class\",\"Lower Class\",\"Upper Class\",\"Middle Class\",\"Upper Class\",\"Lower Class\",\"Lower Class\",\"Lower Class\",\"Upper Class\",\"Lower Class\",\"Lower Class\",\"Middle Class\",\"Lower Class\",\"Middle Class\",\"Lower Class\",\"Lower Class\",\"Upper Class\",\"Middle Class\",\"Lower Class\",\"Upper Class\",\"Lower Class\",\"Upper Class\",\"Lower Class\",\"Lower Class\",\"Upper Class\",\"Middle Class\",\"Upper Class\",\"Lower Class\",\"Lower Class\",\"Lower Class\",\"Lower Class\",\"Lower Class\",\"Middle Class\",\"Lower Class\",\"Lower Class\",\"Middle Class\",\"Middle Class\",\"Lower Class\",\"Upper Class\",\"Lower Class\",\"Lower Class\",\"Lower Class\",\"Upper Class\",\"Middle Class\",\"Upper Class\",\"Lower Class\",\"Lower Class\",\"Upper Class\",\"Lower Class\",\"Upper Class\",\"Upper Class\",\"Lower Class\",\"Middle Class\",\"Lower Class\",\"Middle Class\",\"Lower Class\",\"Lower Class\",\"Lower Class\",\"Upper Class\",\"Lower Class\",\"Lower Class\",\"Lower Class\",\"Upper Class\",\"Lower Class\",\"Upper Class\",\"Lower Class\",\"Lower Class\",\"Lower Class\",\"Middle Class\",\"Lower Class\",\"Lower Class\",\"Lower Class\",\"Middle Class\",\"Lower Class\",\"Lower Class\",\"Middle Class\",\"Upper Class\",\"Upper Class\",\"Lower Class\",\"Upper Class\",\"Lower Class\",\"Lower Class\",\"Middle Class\",\"Middle Class\",\"Lower Class\",\"Lower Class\",\"Upper Class\",\"Middle Class\",\"Upper Class\",\"Middle Class\",\"Middle Class\",\"Middle Class\",\"Lower Class\",\"Lower Class\",\"Lower Class\",\"Lower Class\",\"Upper Class\",\"Lower Class\",\"Upper Class\",\"Lower Class\",\"Lower Class\",\"Middle Class\",\"Middle Class\",\"Lower Class\",\"Lower Class\",\"Lower Class\",\"Upper Class\",\"Upper Class\",\"Lower Class\",\"Lower Class\",\"Lower Class\",\"Upper Class\",\"Middle Class\",\"Lower Class\",\"Lower Class\",\"Upper Class\",\"Lower Class\",\"Upper Class\",\"Upper Class\",\"Lower Class\",\"Lower Class\",\"Lower Class\",\"Middle Class\",\"Middle Class\",\"Upper Class\",\"Upper Class\",\"Lower Class\",\"Upper Class\",\"Upper Class\",\"Upper Class\",\"Lower Class\",\"Middle Class\",\"Lower Class\",\"Upper Class\",\"Middle Class\",\"Lower Class\",\"Lower Class\",\"Middle Class\",\"Lower Class\",\"Middle Class\",\"Middle Class\",\"Upper Class\",\"Lower Class\",\"Middle Class\",\"Lower Class\",\"Middle Class\",\"Lower Class\",\"Upper Class\",\"Lower Class\",\"Middle Class\",\"Middle Class\",\"Middle Class\",\"Lower Class\",\"Lower Class\",\"Upper Class\",\"Lower Class\",\"Lower Class\",\"Upper Class\",\"Upper Class\",\"Upper Class\",\"Lower Class\",\"Lower Class\",\"Upper Class\",\"Lower Class\",\"Middle Class\",\"Upper Class\",\"Lower Class\",\"Middle Class\",\"Lower Class\",\"Lower Class\",\"Lower Class\",\"Middle Class\",\"Middle Class\",\"Lower Class\",\"Middle Class\",\"Lower Class\",\"Upper Class\",\"Lower Class\",\"Lower Class\",\"Lower Class\",\"Upper Class\",\"Lower Class\",\"Upper Class\",\"Upper Class\",\"Lower Class\",\"Lower Class\",\"Lower Class\",\"Lower Class\",\"Lower Class\",\"Middle Class\",\"Lower Class\",\"Middle Class\",\"Lower Class\",\"Lower Class\",\"Lower Class\",\"Lower Class\",\"Upper Class\",\"Lower Class\",\"Upper Class\",\"Upper Class\",\"Lower Class\",\"Lower Class\",\"Lower Class\",\"Lower Class\",\"Lower Class\",\"Lower Class\",\"Upper Class\",\"Lower Class\",\"Middle Class\",\"Lower Class\",\"Upper Class\",\"Lower Class\",\"Middle Class\",\"Upper Class\",\"Lower Class\",\"Lower Class\",\"Lower Class\",\"Middle Class\",\"Middle Class\",\"Upper Class\",\"Lower Class\",\"Lower Class\",\"Lower Class\",\"Upper Class\",\"Lower Class\",\"Middle Class\",\"Upper Class\",\"Lower Class\",\"Lower Class\",\"Middle Class\",\"Lower Class\",\"Lower Class\",\"Upper Class\",\"Lower Class\",\"Middle Class\",\"Lower Class\",\"Lower Class\",\"Upper Class\",\"Lower Class\",\"Upper Class\",\"Lower Class\",\"Lower Class\",\"Lower Class\",\"Lower Class\",\"Middle Class\",\"Lower Class\",\"Upper Class\",\"Lower Class\",\"Middle Class\",\"Lower Class\",\"Lower Class\",\"Lower Class\",\"Upper Class\",\"Lower Class\",\"Lower Class\",\"Lower Class\",\"Upper Class\",\"Lower Class\",\"Middle Class\",\"Upper Class\",\"Lower Class\",\"Lower Class\",\"Lower Class\",\"Lower Class\",\"Lower Class\",\"Middle Class\",\"Upper Class\",\"Lower Class\",\"Lower Class\",\"Lower Class\",\"Upper Class\",\"Middle Class\",\"Lower Class\",\"Upper Class\",\"Upper Class\",\"Lower Class\",\"Lower Class\",\"Lower Class\",\"Middle Class\",\"Upper Class\",\"Lower Class\",\"Middle Class\",\"Middle Class\",\"Middle Class\",\"Upper Class\",\"Lower Class\",\"Lower Class\",\"Lower Class\",\"Upper Class\",\"Upper Class\",\"Lower Class\",\"Middle Class\",\"Lower Class\",\"Lower Class\",\"Lower Class\",\"Lower Class\",\"Upper Class\",\"Middle Class\",\"Lower Class\",\"Lower Class\",\"Middle Class\",\"Lower Class\",\"Lower Class\",\"Middle Class\",\"Upper Class\",\"Lower Class\",\"Upper Class\",\"Lower Class\",\"Lower Class\",\"Lower Class\",\"Middle Class\",\"Lower Class\",\"Lower Class\",\"Lower Class\",\"Lower Class\",\"Middle Class\",\"Lower Class\",\"Lower Class\",\"Lower Class\",\"Upper Class\",\"Upper Class\",\"Middle Class\",\"Upper Class\",\"Middle Class\",\"Middle Class\",\"Lower Class\",\"Lower Class\",\"Lower Class\",\"Upper Class\",\"Lower Class\",\"Upper Class\",\"Upper Class\",\"Upper Class\",\"Lower Class\",\"Upper Class\",\"Lower Class\",\"Upper Class\",\"Lower Class\",\"Middle Class\",\"Middle Class\",\"Lower Class\",\"Lower Class\",\"Upper Class\",\"Lower Class\",\"Lower Class\",\"Lower Class\",\"Lower Class\",\"Lower Class\",\"Lower Class\",\"Upper Class\",\"Lower Class\",\"Middle Class\",\"Upper Class\",\"Lower Class\",\"Upper Class\",\"Lower Class\",\"Upper Class\",\"Lower Class\",\"Upper Class\",\"Middle Class\",\"Middle Class\",\"Upper Class\",\"Middle Class\",\"Lower Class\",\"Lower Class\",\"Lower Class\",\"Lower Class\",\"Upper Class\",\"Lower Class\",\"Middle Class\",\"Lower Class\",\"Lower Class\",\"Upper Class\",\"Middle Class\",\"Lower Class\",\"Upper Class\",\"Upper Class\",\"Upper Class\",\"Lower Class\",\"Lower Class\",\"Lower Class\",\"Upper Class\",\"Upper Class\",\"Upper Class\",\"Lower Class\",\"Upper Class\",\"Middle Class\",\"Lower Class\",\"Lower Class\",\"Upper Class\",\"Upper Class\",\"Lower Class\",\"Middle Class\",\"Lower Class\",\"Lower Class\",\"Lower Class\",\"Lower Class\",\"Middle Class\",\"Lower Class\",\"Lower Class\",\"Upper Class\",\"Lower Class\",\"Upper Class\",\"Lower Class\",\"Upper Class\",\"Lower Class\",\"Lower Class\",\"Lower Class\",\"Upper Class\",\"Middle Class\",\"Lower Class\",\"Lower Class\",\"Lower Class\",\"Lower Class\",\"Lower Class\",\"Lower Class\",\"Lower Class\",\"Middle Class\",\"Middle Class\",\"Lower Class\",\"Upper Class\",\"Lower Class\",\"Upper Class\",\"Lower Class\",\"Lower Class\",\"Lower Class\",\"Upper Class\",\"Middle Class\",\"Middle Class\",\"Lower Class\",\"Upper Class\",\"Lower Class\",\"Lower Class\",\"Lower Class\",\"Lower Class\",\"Lower Class\",\"Middle Class\",\"Lower Class\",\"Lower Class\",\"Upper Class\",\"Lower Class\",\"Lower Class\",\"Lower Class\",\"Lower Class\",\"Lower Class\",\"Middle Class\",\"Lower Class\",\"Lower Class\",\"Lower Class\",\"Upper Class\",\"Upper Class\",\"Middle Class\",\"Upper Class\",\"Lower Class\",\"Upper Class\",\"Lower Class\",\"Upper Class\",\"Middle Class\",\"Upper Class\",\"Lower Class\",\"Lower Class\",\"Lower Class\",\"Lower Class\",\"Lower Class\",\"Upper Class\",\"Lower Class\",\"Upper Class\",\"Lower Class\",\"Lower Class\",\"Lower Class\",\"Middle Class\",\"Lower Class\",\"Middle Class\",\"Lower Class\",\"Upper Class\",\"Lower Class\",\"Upper Class\",\"Lower Class\",\"Lower Class\",\"Lower Class\",\"Lower Class\",\"Lower Class\",\"Lower Class\",\"Middle Class\",\"Middle Class\",\"Upper Class\",\"Middle Class\",\"Upper Class\",\"Middle Class\",\"Upper Class\",\"Upper Class\",\"Lower Class\",\"Upper Class\",\"Middle Class\",\"Middle Class\",\"Lower Class\",\"Lower Class\",\"Middle Class\",\"Middle Class\",\"Upper Class\",\"Lower Class\",\"Middle Class\",\"Middle Class\",\"Lower Class\",\"Upper Class\",\"Lower Class\",\"Middle Class\",\"Lower Class\",\"Lower Class\",\"Lower Class\",\"Upper Class\",\"Middle Class\",\"Middle Class\",\"Upper Class\",\"Lower Class\",\"Middle Class\",\"Upper Class\",\"Lower Class\",\"Lower Class\",\"Lower Class\",\"Middle Class\",\"Middle Class\",\"Lower Class\",\"Upper Class\",\"Lower Class\",\"Upper Class\",\"Upper Class\",\"Lower Class\",\"Middle Class\",\"Lower Class\",\"Middle Class\",\"Lower Class\",\"Upper Class\",\"Lower Class\",\"Lower Class\",\"Lower Class\",\"Lower Class\",\"Middle Class\",\"Middle Class\",\"Upper Class\",\"Lower Class\",\"Lower Class\",\"Upper Class\",\"Lower Class\",\"Upper Class\",\"Lower Class\",\"Middle Class\",\"Upper Class\",\"Upper Class\",\"Middle Class\",\"Upper Class\",\"Lower Class\",\"Lower Class\",\"Upper Class\",\"Middle Class\",\"Middle Class\",\"Middle Class\",\"Lower Class\",\"Middle Class\",\"Lower Class\",\"Upper Class\",\"Lower Class\",\"Lower Class\",\"Lower Class\",\"Lower Class\",\"Lower Class\",\"Middle Class\",\"Lower Class\",\"Lower Class\",\"Lower Class\",\"Middle Class\",\"Lower Class\",\"Middle Class\",\"Lower Class\",\"Upper Class\",\"Lower Class\",\"Lower Class\",\"Lower Class\",\"Upper Class\",\"Lower Class\",\"Upper Class\",\"Lower Class\",\"Lower Class\",\"Middle Class\",\"Middle Class\",\"Middle Class\",\"Middle Class\",\"Middle Class\",\"Lower Class\",\"Lower Class\",\"Lower Class\",\"Lower Class\",\"Lower Class\",\"Lower Class\",\"Lower Class\",\"Upper Class\",\"Lower Class\",\"Lower Class\",\"Upper Class\",\"Lower Class\",\"Lower Class\",\"Upper Class\",\"Lower Class\",\"Lower Class\",\"Middle Class\",\"Lower Class\",\"Upper Class\",\"Lower Class\",\"Lower Class\",\"Middle Class\",\"Middle Class\",\"Lower Class\",\"Lower Class\",\"Upper Class\",\"Upper Class\",\"Lower Class\",\"Upper Class\",\"Lower Class\",\"Lower Class\",\"Lower Class\",\"Lower Class\",\"Lower Class\",\"Upper Class\",\"Lower Class\",\"Upper Class\",\"Middle Class\",\"Lower Class\",\"Middle Class\",\"Lower Class\",\"Lower Class\",\"Middle Class\",\"Upper Class\",\"Upper Class\",\"Lower Class\",\"Middle Class\",\"Upper Class\",\"Middle Class\",\"Middle Class\",\"Middle Class\",\"Upper Class\",\"Lower Class\",\"Lower Class\",\"Lower Class\",\"Upper Class\",\"Middle Class\",\"Lower Class\",\"Middle Class\",\"Lower Class\",\"Middle Class\",\"Lower Class\",\"Lower Class\",\"Upper Class\",\"Lower Class\",\"Lower Class\",\"Middle Class\",\"Lower Class\",\"Middle Class\",\"Middle Class\",\"Upper Class\",\"Middle Class\",\"Middle Class\",\"Middle Class\",\"Lower Class\",\"Upper Class\",\"Upper Class\",\"Lower Class\",\"Lower Class\",\"Lower Class\",\"Lower Class\",\"Middle Class\",\"Middle Class\",\"Lower Class\",\"Upper Class\",\"Lower Class\",\"Lower Class\",\"Lower Class\",\"Upper Class\",\"Middle Class\",\"Middle Class\",\"Upper Class\",\"Upper Class\",\"Middle Class\",\"Upper Class\",\"Upper Class\",\"Lower Class\",\"Middle Class\",\"Upper Class\",\"Lower Class\",\"Lower Class\",\"Lower Class\",\"Lower Class\",\"Lower Class\",\"Middle Class\",\"Middle Class\",\"Lower Class\",\"Middle Class\",\"Lower Class\",\"Lower Class\",\"Upper Class\",\"Upper Class\",\"Lower Class\",\"Middle Class\",\"Lower Class\",\"Upper Class\",\"Lower Class\",\"Upper Class\",\"Lower Class\",\"Lower Class\",\"Upper Class\",\"Middle Class\",\"Upper Class\",\"Upper Class\",\"Upper Class\",\"Middle Class\",\"Middle Class\",\"Upper Class\",\"Lower Class\",\"Lower Class\",\"Lower Class\",\"Upper Class\",\"Lower Class\",\"Lower Class\",\"Upper Class\",\"Lower Class\",\"Lower Class\",\"Lower Class\"],\"xaxis\":\"x\",\"y\":[7.25,71.2833,7.925,53.1,8.05,8.4583,51.8625,21.075,11.1333,30.0708,16.7,26.55,8.05,31.275,7.8542,16.0,29.125,13.0,18.0,7.225,26.0,13.0,8.0292,35.5,21.075,31.3875,7.225,263.0,7.8792,7.8958,27.7208,146.5208,7.75,10.5,82.1708,52.0,7.2292,8.05,18.0,11.2417,9.475,21.0,7.8958,41.5792,7.8792,8.05,15.5,7.75,21.6792,17.8,39.6875,7.8,76.7292,26.0,61.9792,35.5,10.5,7.2292,27.75,46.9,7.2292,80.0,83.475,27.9,27.7208,15.2458,10.5,8.1583,7.925,8.6625,10.5,46.9,73.5,14.4542,56.4958,7.65,7.8958,8.05,29.0,12.475,9.0,9.5,7.7875,47.1,10.5,15.85,34.375,8.05,263.0,8.05,8.05,7.8542,61.175,20.575,7.25,8.05,34.6542,63.3583,23.0,26.0,7.8958,7.8958,77.2875,8.6542,7.925,7.8958,7.65,7.775,7.8958,24.15,52.0,14.4542,8.05,9.825,14.4583,7.925,7.75,21.0,247.5208,31.275,73.5,8.05,30.0708,13.0,77.2875,11.2417,7.75,7.1417,22.3583,6.975,7.8958,7.05,14.5,26.0,13.0,15.0458,26.2833,53.1,9.2167,79.2,15.2458,7.75,15.85,6.75,11.5,36.75,7.7958,34.375,26.0,13.0,12.525,66.6,8.05,14.5,7.3125,61.3792,7.7333,8.05,8.6625,69.55,16.1,15.75,7.775,8.6625,39.6875,20.525,55.0,27.9,25.925,56.4958,33.5,29.125,11.1333,7.925,30.6958,7.8542,25.4667,28.7125,13.0,0.0,69.55,15.05,31.3875,39.0,22.025,50.0,15.5,26.55,15.5,7.8958,13.0,13.0,7.8542,26.0,27.7208,146.5208,7.75,8.4042,7.75,13.0,9.5,69.55,6.4958,7.225,8.05,10.4625,15.85,18.7875,7.75,31.0,7.05,21.0,7.25,13.0,7.75,113.275,7.925,27.0,76.2917,10.5,8.05,13.0,8.05,7.8958,90.0,9.35,10.5,7.25,13.0,25.4667,83.475,7.775,13.5,31.3875,10.5,7.55,26.0,26.25,10.5,12.275,14.4542,15.5,10.5,7.125,7.225,90.0,7.775,14.5,52.5542,26.0,7.25,10.4625,26.55,16.1,20.2125,15.2458,79.2,86.5,512.3292,26.0,7.75,31.3875,79.65,0.0,7.75,10.5,39.6875,7.775,153.4625,135.6333,31.0,0.0,19.5,29.7,7.75,77.9583,7.75,0.0,29.125,20.25,7.75,7.8542,9.5,8.05,26.0,8.6625,9.5,7.8958,13.0,7.75,78.85,91.0792,12.875,8.85,7.8958,27.7208,7.2292,151.55,30.5,247.5208,7.75,23.25,0.0,12.35,8.05,151.55,110.8833,108.9,24.0,56.9292,83.1583,262.375,26.0,7.8958,26.25,7.8542,26.0,14.0,164.8667,134.5,7.25,7.8958,12.35,29.0,69.55,135.6333,6.2375,13.0,20.525,57.9792,23.25,28.5,153.4625,18.0,133.65,7.8958,66.6,134.5,8.05,35.5,26.0,263.0,13.0,13.0,13.0,13.0,13.0,16.1,15.9,8.6625,9.225,35.0,7.2292,17.8,7.225,9.5,55.0,13.0,7.8792,7.8792,27.9,27.7208,14.4542,7.05,15.5,7.25,75.25,7.2292,7.75,69.3,55.4417,6.4958,8.05,135.6333,21.075,82.1708,7.25,211.5,4.0125,7.775,227.525,15.7417,7.925,52.0,7.8958,73.5,46.9,13.0,7.7292,12.0,120.0,7.7958,7.925,113.275,16.7,7.7958,7.8542,26.0,10.5,12.65,7.925,8.05,9.825,15.85,8.6625,21.0,7.75,18.75,7.775,25.4667,7.8958,6.8583,90.0,0.0,7.925,8.05,32.5,13.0,13.0,24.15,7.8958,7.7333,7.875,14.4,20.2125,7.25,26.0,26.0,7.75,8.05,26.55,16.1,26.0,7.125,55.9,120.0,34.375,18.75,263.0,10.5,26.25,9.5,7.775,13.0,8.1125,81.8583,19.5,26.55,19.2583,30.5,27.75,19.9667,27.75,89.1042,8.05,7.8958,26.55,51.8625,10.5,7.75,26.55,8.05,38.5,13.0,8.05,7.05,0.0,26.55,7.725,19.2583,7.25,8.6625,27.75,13.7917,9.8375,52.0,21.0,7.0458,7.5208,12.2875,46.9,0.0,8.05,9.5875,91.0792,25.4667,90.0,29.7,8.05,15.9,19.9667,7.25,30.5,49.5042,8.05,14.4583,78.2667,15.1,151.55,7.7958,8.6625,7.75,7.6292,9.5875,86.5,108.9,26.0,26.55,22.525,56.4958,7.75,8.05,26.2875,59.4,7.4958,34.0208,10.5,24.15,26.0,7.8958,93.5,7.8958,7.225,57.9792,7.2292,7.75,10.5,221.7792,7.925,11.5,26.0,7.2292,7.2292,22.3583,8.6625,26.25,26.55,106.425,14.5,49.5,71.0,31.275,31.275,26.0,106.425,26.0,26.0,13.8625,20.525,36.75,110.8833,26.0,7.8292,7.225,7.775,26.55,39.6,227.525,79.65,17.4,7.75,7.8958,13.5,8.05,8.05,24.15,7.8958,21.075,7.2292,7.8542,10.5,51.4792,26.3875,7.75,8.05,14.5,13.0,55.9,14.4583,7.925,30.0,110.8833,26.0,40.125,8.7125,79.65,15.0,79.2,8.05,8.05,7.125,78.2667,7.25,7.75,26.0,24.15,33.0,0.0,7.225,56.9292,27.0,7.8958,42.4,8.05,26.55,15.55,7.8958,30.5,41.5792,153.4625,31.275,7.05,15.5,7.75,8.05,65.0,14.4,16.1,39.0,10.5,14.4542,52.5542,15.7417,7.8542,16.1,32.3208,12.35,77.9583,7.8958,7.7333,30.0,7.0542,30.5,0.0,27.9,13.0,7.925,26.25,39.6875,16.1,7.8542,69.3,27.9,56.4958,19.2583,76.7292,7.8958,35.5,7.55,7.55,7.8958,23.0,8.4333,7.8292,6.75,73.5,7.8958,15.5,13.0,113.275,133.65,7.225,25.5875,7.4958,7.925,73.5,13.0,7.775,8.05,52.0,39.0,52.0,10.5,13.0,0.0,7.775,8.05,9.8417,46.9,512.3292,8.1375,76.7292,9.225,46.9,39.0,41.5792,39.6875,10.1708,7.7958,211.3375,57.0,13.4167,56.4958,7.225,26.55,13.5,8.05,7.7333,110.8833,7.65,227.525,26.2875,14.4542,7.7417,7.8542,26.0,13.5,26.2875,151.55,15.2458,49.5042,26.55,52.0,9.4833,13.0,7.65,227.525,10.5,15.5,7.775,33.0,7.0542,13.0,13.0,53.1,8.6625,21.0,7.7375,26.0,7.925,211.3375,18.7875,0.0,13.0,13.0,16.1,34.375,512.3292,7.8958,7.8958,30.0,78.85,262.375,16.1,7.925,71.0,20.25,13.0,53.1,7.75,23.0,12.475,9.5,7.8958,65.0,14.5,7.7958,11.5,8.05,86.5,14.5,7.125,7.2292,120.0,7.775,77.9583,39.6,7.75,24.15,8.3625,9.5,7.8542,10.5,7.225,23.0,7.75,7.75,12.475,7.7375,211.3375,7.2292,57.0,30.0,23.45,7.05,7.25,7.4958,29.125,20.575,79.2,7.75,26.0,69.55,30.6958,7.8958,13.0,25.9292,8.6833,7.2292,24.15,13.0,26.25,120.0,8.5167,6.975,7.775,0.0,7.775,13.0,53.1,7.8875,24.15,10.5,31.275,8.05,0.0,7.925,37.0042,6.45,27.9,93.5,8.6625,0.0,12.475,39.6875,6.95,56.4958,37.0042,7.75,80.0,14.4542,18.75,7.2292,7.8542,8.3,83.1583,8.6625,8.05,56.4958,29.7,7.925,10.5,31.0,6.4375,8.6625,7.55,69.55,7.8958,33.0,89.1042,31.275,7.775,15.2458,39.4,26.0,9.35,164.8667,26.55,19.2583,7.2292,14.1083,11.5,25.9292,69.55,13.0,13.0,13.8583,50.4958,9.5,11.1333,7.8958,52.5542,5.0,9.0,24.0,7.225,9.8458,7.8958,7.8958,83.1583,26.0,7.8958,10.5167,10.5,7.05,29.125,13.0,30.0,23.45,30.0,7.75,7.8292,7.0,9.6875,8.6625,12.2875,9.225,7.6292,29.0,7.2292,24.15,7.8958,26.0,82.2667,26.0,61.175,27.7208,12.35,7.225,7.925,7.225,59.4,3.1708,31.6833,61.3792,262.375,14.5,61.9792,7.225,30.5,21.6792,26.0,31.5,20.575,23.45,57.75,7.2292,8.05,8.6625,9.5,56.4958,13.4167,26.55,7.85,13.0,52.5542,7.925,29.7,7.75,76.2917,15.9,60.0,15.0333,23.0,263.0,15.5792,29.125,7.8958,7.65,16.1,262.375,7.8958,13.5,7.75,7.725,262.375,21.0,7.8792,42.4,28.5375,263.0,7.75,7.8958,7.925,27.7208,211.5,211.5,8.05,25.7,13.0,7.75,15.2458,221.7792,26.0,7.8958,10.7083,14.4542,7.8792,8.05,7.75,23.0,13.9,7.775,52.0,8.05,26.0,7.7958,78.85,7.925,7.8542,8.05,55.4417,26.0,7.75,7.775,8.5167,22.525,7.8208,7.75,8.7125,13.0,15.0458,7.7792,31.6792,7.2833,221.7792,14.4542,6.4375,16.7,75.2417,26.0,15.75,7.75,57.75,7.25,7.75,16.1,7.7958,23.25,13.0,8.05,8.05,28.5,25.4667,6.4375,7.8958,7.8542,7.225,13.0,8.05,46.9,46.9,151.55,262.375,26.0,26.55,18.0,51.8625,8.05,26.55,26.0,83.1583,7.8958,33.29547928134557,12.1833,31.3875,7.55,221.7792,7.8542,26.55,13.775,7.7333,15.2458,13.5,7.0,13.0,22.025,50.4958,34.375,27.7208,8.9625,7.55,7.225,13.9,7.2292,31.3875,39.0,36.75,55.4417,39.0,83.1583,13.0,83.1583,53.1,7.75,247.5208,16.0,21.0,8.05,69.55,13.0,26.0,26.0,14.5,12.35,32.5,7.8542,134.5,7.775,10.5,8.1125,15.5,14.4,227.525,26.0,10.5,25.7417,7.75,10.5,27.7208,7.8958,22.525,7.05,73.5,26.0,7.775,42.5,7.8792,164.8667,211.5,8.05,13.8583,8.05,10.5,7.7958,27.4458,15.2458,7.7958,7.75,15.1,13.0,65.0,26.55,6.4958,7.8792,71.2833,7.8542,75.25,7.225,13.0,106.425,27.7208,30.0,134.5,7.8875,23.45,51.8625,21.0,32.5,26.0,14.4542,27.75,7.925,136.7792,9.325,9.5,7.55,7.75,8.05,13.0,7.775,17.4,7.8542,23.0,12.1833,12.7375,7.8958,0.0,7.55,8.05,8.6625,75.2417,7.75,136.7792,15.5,7.225,26.0,10.5,26.0,21.0,10.5,8.6625,13.775,7.75,15.2458,20.2125,7.25,7.25,82.2667,7.2292,8.05,39.6,6.95,7.2292,81.8583,9.5,7.8958,41.5792,21.6792,45.5,7.8542,7.775,15.0458,21.0,8.6625,7.75,26.55,151.55,9.35,93.5,14.1083,8.6625,7.225,7.575,7.75,135.6333,7.7333,146.5208,10.5,7.8542,31.5,7.775,7.2292,13.0,26.55,211.3375,7.05,39.0,79.2,26.0,13.0,36.75,29.7,7.225,15.7417,7.8958,26.0,13.0,7.2292,31.5,7.2292,10.5,7.5792,69.55,512.3292,14.5,7.65,13.0,7.2292,13.5,21.0,63.3583,10.5,73.5,65.0,20.575,26.0,51.4792,7.8792,7.75,15.55,69.55,37.0042,21.0,8.6625,55.4417,69.55,14.4583,39.6875,59.4,13.8583,11.5,134.5,0.0,13.0,81.8583,262.375,8.6625,11.5,50.0,31.3875,7.75,7.8792,14.5,16.1,12.875,65.0,7.775,13.0,7.75,21.075,93.5,39.4,20.25,10.5,22.025,60.0,7.25,79.2,7.775,7.7333,164.8667,21.0,59.4,47.1,27.7208,13.8625,10.5,211.5,7.7208,13.775,7.75,90.0,7.775,8.05,108.9,7.25,8.05,22.3583],\"yaxis\":\"y\",\"type\":\"scattergl\"}],                        {\"template\":{\"data\":{\"bar\":[{\"error_x\":{\"color\":\"#2a3f5f\"},\"error_y\":{\"color\":\"#2a3f5f\"},\"marker\":{\"line\":{\"color\":\"#E5ECF6\",\"width\":0.5},\"pattern\":{\"fillmode\":\"overlay\",\"size\":10,\"solidity\":0.2}},\"type\":\"bar\"}],\"barpolar\":[{\"marker\":{\"line\":{\"color\":\"#E5ECF6\",\"width\":0.5},\"pattern\":{\"fillmode\":\"overlay\",\"size\":10,\"solidity\":0.2}},\"type\":\"barpolar\"}],\"carpet\":[{\"aaxis\":{\"endlinecolor\":\"#2a3f5f\",\"gridcolor\":\"white\",\"linecolor\":\"white\",\"minorgridcolor\":\"white\",\"startlinecolor\":\"#2a3f5f\"},\"baxis\":{\"endlinecolor\":\"#2a3f5f\",\"gridcolor\":\"white\",\"linecolor\":\"white\",\"minorgridcolor\":\"white\",\"startlinecolor\":\"#2a3f5f\"},\"type\":\"carpet\"}],\"choropleth\":[{\"colorbar\":{\"outlinewidth\":0,\"ticks\":\"\"},\"type\":\"choropleth\"}],\"contour\":[{\"colorbar\":{\"outlinewidth\":0,\"ticks\":\"\"},\"colorscale\":[[0.0,\"#0d0887\"],[0.1111111111111111,\"#46039f\"],[0.2222222222222222,\"#7201a8\"],[0.3333333333333333,\"#9c179e\"],[0.4444444444444444,\"#bd3786\"],[0.5555555555555556,\"#d8576b\"],[0.6666666666666666,\"#ed7953\"],[0.7777777777777778,\"#fb9f3a\"],[0.8888888888888888,\"#fdca26\"],[1.0,\"#f0f921\"]],\"type\":\"contour\"}],\"contourcarpet\":[{\"colorbar\":{\"outlinewidth\":0,\"ticks\":\"\"},\"type\":\"contourcarpet\"}],\"heatmap\":[{\"colorbar\":{\"outlinewidth\":0,\"ticks\":\"\"},\"colorscale\":[[0.0,\"#0d0887\"],[0.1111111111111111,\"#46039f\"],[0.2222222222222222,\"#7201a8\"],[0.3333333333333333,\"#9c179e\"],[0.4444444444444444,\"#bd3786\"],[0.5555555555555556,\"#d8576b\"],[0.6666666666666666,\"#ed7953\"],[0.7777777777777778,\"#fb9f3a\"],[0.8888888888888888,\"#fdca26\"],[1.0,\"#f0f921\"]],\"type\":\"heatmap\"}],\"heatmapgl\":[{\"colorbar\":{\"outlinewidth\":0,\"ticks\":\"\"},\"colorscale\":[[0.0,\"#0d0887\"],[0.1111111111111111,\"#46039f\"],[0.2222222222222222,\"#7201a8\"],[0.3333333333333333,\"#9c179e\"],[0.4444444444444444,\"#bd3786\"],[0.5555555555555556,\"#d8576b\"],[0.6666666666666666,\"#ed7953\"],[0.7777777777777778,\"#fb9f3a\"],[0.8888888888888888,\"#fdca26\"],[1.0,\"#f0f921\"]],\"type\":\"heatmapgl\"}],\"histogram\":[{\"marker\":{\"pattern\":{\"fillmode\":\"overlay\",\"size\":10,\"solidity\":0.2}},\"type\":\"histogram\"}],\"histogram2d\":[{\"colorbar\":{\"outlinewidth\":0,\"ticks\":\"\"},\"colorscale\":[[0.0,\"#0d0887\"],[0.1111111111111111,\"#46039f\"],[0.2222222222222222,\"#7201a8\"],[0.3333333333333333,\"#9c179e\"],[0.4444444444444444,\"#bd3786\"],[0.5555555555555556,\"#d8576b\"],[0.6666666666666666,\"#ed7953\"],[0.7777777777777778,\"#fb9f3a\"],[0.8888888888888888,\"#fdca26\"],[1.0,\"#f0f921\"]],\"type\":\"histogram2d\"}],\"histogram2dcontour\":[{\"colorbar\":{\"outlinewidth\":0,\"ticks\":\"\"},\"colorscale\":[[0.0,\"#0d0887\"],[0.1111111111111111,\"#46039f\"],[0.2222222222222222,\"#7201a8\"],[0.3333333333333333,\"#9c179e\"],[0.4444444444444444,\"#bd3786\"],[0.5555555555555556,\"#d8576b\"],[0.6666666666666666,\"#ed7953\"],[0.7777777777777778,\"#fb9f3a\"],[0.8888888888888888,\"#fdca26\"],[1.0,\"#f0f921\"]],\"type\":\"histogram2dcontour\"}],\"mesh3d\":[{\"colorbar\":{\"outlinewidth\":0,\"ticks\":\"\"},\"type\":\"mesh3d\"}],\"parcoords\":[{\"line\":{\"colorbar\":{\"outlinewidth\":0,\"ticks\":\"\"}},\"type\":\"parcoords\"}],\"pie\":[{\"automargin\":true,\"type\":\"pie\"}],\"scatter\":[{\"marker\":{\"colorbar\":{\"outlinewidth\":0,\"ticks\":\"\"}},\"type\":\"scatter\"}],\"scatter3d\":[{\"line\":{\"colorbar\":{\"outlinewidth\":0,\"ticks\":\"\"}},\"marker\":{\"colorbar\":{\"outlinewidth\":0,\"ticks\":\"\"}},\"type\":\"scatter3d\"}],\"scattercarpet\":[{\"marker\":{\"colorbar\":{\"outlinewidth\":0,\"ticks\":\"\"}},\"type\":\"scattercarpet\"}],\"scattergeo\":[{\"marker\":{\"colorbar\":{\"outlinewidth\":0,\"ticks\":\"\"}},\"type\":\"scattergeo\"}],\"scattergl\":[{\"marker\":{\"colorbar\":{\"outlinewidth\":0,\"ticks\":\"\"}},\"type\":\"scattergl\"}],\"scattermapbox\":[{\"marker\":{\"colorbar\":{\"outlinewidth\":0,\"ticks\":\"\"}},\"type\":\"scattermapbox\"}],\"scatterpolar\":[{\"marker\":{\"colorbar\":{\"outlinewidth\":0,\"ticks\":\"\"}},\"type\":\"scatterpolar\"}],\"scatterpolargl\":[{\"marker\":{\"colorbar\":{\"outlinewidth\":0,\"ticks\":\"\"}},\"type\":\"scatterpolargl\"}],\"scatterternary\":[{\"marker\":{\"colorbar\":{\"outlinewidth\":0,\"ticks\":\"\"}},\"type\":\"scatterternary\"}],\"surface\":[{\"colorbar\":{\"outlinewidth\":0,\"ticks\":\"\"},\"colorscale\":[[0.0,\"#0d0887\"],[0.1111111111111111,\"#46039f\"],[0.2222222222222222,\"#7201a8\"],[0.3333333333333333,\"#9c179e\"],[0.4444444444444444,\"#bd3786\"],[0.5555555555555556,\"#d8576b\"],[0.6666666666666666,\"#ed7953\"],[0.7777777777777778,\"#fb9f3a\"],[0.8888888888888888,\"#fdca26\"],[1.0,\"#f0f921\"]],\"type\":\"surface\"}],\"table\":[{\"cells\":{\"fill\":{\"color\":\"#EBF0F8\"},\"line\":{\"color\":\"white\"}},\"header\":{\"fill\":{\"color\":\"#C8D4E3\"},\"line\":{\"color\":\"white\"}},\"type\":\"table\"}]},\"layout\":{\"annotationdefaults\":{\"arrowcolor\":\"#2a3f5f\",\"arrowhead\":0,\"arrowwidth\":1},\"autotypenumbers\":\"strict\",\"coloraxis\":{\"colorbar\":{\"outlinewidth\":0,\"ticks\":\"\"}},\"colorscale\":{\"diverging\":[[0,\"#8e0152\"],[0.1,\"#c51b7d\"],[0.2,\"#de77ae\"],[0.3,\"#f1b6da\"],[0.4,\"#fde0ef\"],[0.5,\"#f7f7f7\"],[0.6,\"#e6f5d0\"],[0.7,\"#b8e186\"],[0.8,\"#7fbc41\"],[0.9,\"#4d9221\"],[1,\"#276419\"]],\"sequential\":[[0.0,\"#0d0887\"],[0.1111111111111111,\"#46039f\"],[0.2222222222222222,\"#7201a8\"],[0.3333333333333333,\"#9c179e\"],[0.4444444444444444,\"#bd3786\"],[0.5555555555555556,\"#d8576b\"],[0.6666666666666666,\"#ed7953\"],[0.7777777777777778,\"#fb9f3a\"],[0.8888888888888888,\"#fdca26\"],[1.0,\"#f0f921\"]],\"sequentialminus\":[[0.0,\"#0d0887\"],[0.1111111111111111,\"#46039f\"],[0.2222222222222222,\"#7201a8\"],[0.3333333333333333,\"#9c179e\"],[0.4444444444444444,\"#bd3786\"],[0.5555555555555556,\"#d8576b\"],[0.6666666666666666,\"#ed7953\"],[0.7777777777777778,\"#fb9f3a\"],[0.8888888888888888,\"#fdca26\"],[1.0,\"#f0f921\"]]},\"colorway\":[\"#636efa\",\"#EF553B\",\"#00cc96\",\"#ab63fa\",\"#FFA15A\",\"#19d3f3\",\"#FF6692\",\"#B6E880\",\"#FF97FF\",\"#FECB52\"],\"font\":{\"color\":\"#2a3f5f\"},\"geo\":{\"bgcolor\":\"white\",\"lakecolor\":\"white\",\"landcolor\":\"#E5ECF6\",\"showlakes\":true,\"showland\":true,\"subunitcolor\":\"white\"},\"hoverlabel\":{\"align\":\"left\"},\"hovermode\":\"closest\",\"mapbox\":{\"style\":\"light\"},\"paper_bgcolor\":\"white\",\"plot_bgcolor\":\"#E5ECF6\",\"polar\":{\"angularaxis\":{\"gridcolor\":\"white\",\"linecolor\":\"white\",\"ticks\":\"\"},\"bgcolor\":\"#E5ECF6\",\"radialaxis\":{\"gridcolor\":\"white\",\"linecolor\":\"white\",\"ticks\":\"\"}},\"scene\":{\"xaxis\":{\"backgroundcolor\":\"#E5ECF6\",\"gridcolor\":\"white\",\"gridwidth\":2,\"linecolor\":\"white\",\"showbackground\":true,\"ticks\":\"\",\"zerolinecolor\":\"white\"},\"yaxis\":{\"backgroundcolor\":\"#E5ECF6\",\"gridcolor\":\"white\",\"gridwidth\":2,\"linecolor\":\"white\",\"showbackground\":true,\"ticks\":\"\",\"zerolinecolor\":\"white\"},\"zaxis\":{\"backgroundcolor\":\"#E5ECF6\",\"gridcolor\":\"white\",\"gridwidth\":2,\"linecolor\":\"white\",\"showbackground\":true,\"ticks\":\"\",\"zerolinecolor\":\"white\"}},\"shapedefaults\":{\"line\":{\"color\":\"#2a3f5f\"}},\"ternary\":{\"aaxis\":{\"gridcolor\":\"white\",\"linecolor\":\"white\",\"ticks\":\"\"},\"baxis\":{\"gridcolor\":\"white\",\"linecolor\":\"white\",\"ticks\":\"\"},\"bgcolor\":\"#E5ECF6\",\"caxis\":{\"gridcolor\":\"white\",\"linecolor\":\"white\",\"ticks\":\"\"}},\"title\":{\"x\":0.05},\"xaxis\":{\"automargin\":true,\"gridcolor\":\"white\",\"linecolor\":\"white\",\"ticks\":\"\",\"title\":{\"standoff\":15},\"zerolinecolor\":\"white\",\"zerolinewidth\":2},\"yaxis\":{\"automargin\":true,\"gridcolor\":\"white\",\"linecolor\":\"white\",\"ticks\":\"\",\"title\":{\"standoff\":15},\"zerolinecolor\":\"white\",\"zerolinewidth\":2}}},\"xaxis\":{\"anchor\":\"y\",\"domain\":[0.0,1.0],\"title\":{\"text\":\"Pclass\"}},\"yaxis\":{\"anchor\":\"x\",\"domain\":[0.0,1.0],\"title\":{\"text\":\"Fare\"}},\"legend\":{\"tracegroupgap\":0},\"margin\":{\"t\":60}},                        {\"responsive\": true}                    ).then(function(){\n",
              "                            \n",
              "var gd = document.getElementById('129ee735-6cec-4af9-a2e8-5a9a8c8493d5');\n",
              "var x = new MutationObserver(function (mutations, observer) {{\n",
              "        var display = window.getComputedStyle(gd).display;\n",
              "        if (!display || display === 'none') {{\n",
              "            console.log([gd, 'removed!']);\n",
              "            Plotly.purge(gd);\n",
              "            observer.disconnect();\n",
              "        }}\n",
              "}});\n",
              "\n",
              "// Listen for the removal of the full notebook cells\n",
              "var notebookContainer = gd.closest('#notebook-container');\n",
              "if (notebookContainer) {{\n",
              "    x.observe(notebookContainer, {childList: true});\n",
              "}}\n",
              "\n",
              "// Listen for the clearing of the current output cell\n",
              "var outputEl = gd.closest('.output');\n",
              "if (outputEl) {{\n",
              "    x.observe(outputEl, {childList: true});\n",
              "}}\n",
              "\n",
              "                        })                };                            </script>        </div>\n",
              "</body>\n",
              "</html>"
            ]
          },
          "metadata": {}
        }
      ]
    },
    {
      "cell_type": "code",
      "source": [
        "px.histogram(data_frame=titanic_df,x='Embarked',y='Survived')"
      ],
      "metadata": {
        "colab": {
          "base_uri": "https://localhost:8080/",
          "height": 542
        },
        "id": "4nFP-EQ6BFOb",
        "outputId": "3f1fb737-56c5-4797-f169-b63ce8fa6bdc"
      },
      "execution_count": 75,
      "outputs": [
        {
          "output_type": "display_data",
          "data": {
            "text/html": [
              "<html>\n",
              "<head><meta charset=\"utf-8\" /></head>\n",
              "<body>\n",
              "    <div>            <script src=\"https://cdnjs.cloudflare.com/ajax/libs/mathjax/2.7.5/MathJax.js?config=TeX-AMS-MML_SVG\"></script><script type=\"text/javascript\">if (window.MathJax) {MathJax.Hub.Config({SVG: {font: \"STIX-Web\"}});}</script>                <script type=\"text/javascript\">window.PlotlyConfig = {MathJaxConfig: 'local'};</script>\n",
              "        <script src=\"https://cdn.plot.ly/plotly-2.8.3.min.js\"></script>                <div id=\"ce21d13c-e695-4db3-8488-3a2409948596\" class=\"plotly-graph-div\" style=\"height:525px; width:100%;\"></div>            <script type=\"text/javascript\">                                    window.PLOTLYENV=window.PLOTLYENV || {};                                    if (document.getElementById(\"ce21d13c-e695-4db3-8488-3a2409948596\")) {                    Plotly.newPlot(                        \"ce21d13c-e695-4db3-8488-3a2409948596\",                        [{\"alignmentgroup\":\"True\",\"bingroup\":\"x\",\"histfunc\":\"sum\",\"hovertemplate\":\"Embarked=%{x}<br>sum of Survived=%{y}<extra></extra>\",\"legendgroup\":\"\",\"marker\":{\"color\":\"#636efa\",\"pattern\":{\"shape\":\"\"}},\"name\":\"\",\"offsetgroup\":\"\",\"orientation\":\"v\",\"showlegend\":false,\"x\":[\"S\",\"C\",\"S\",\"S\",\"S\",\"Q\",\"S\",\"S\",\"S\",\"C\",\"S\",\"S\",\"S\",\"S\",\"S\",\"S\",\"Q\",\"S\",\"S\",\"C\",\"S\",\"S\",\"Q\",\"S\",\"S\",\"S\",\"C\",\"S\",\"Q\",\"S\",\"C\",\"C\",\"Q\",\"S\",\"C\",\"S\",\"C\",\"S\",\"S\",\"C\",\"S\",\"S\",\"C\",\"C\",\"Q\",\"S\",\"Q\",\"Q\",\"C\",\"S\",\"S\",\"S\",\"C\",\"S\",\"C\",\"S\",\"S\",\"C\",\"S\",\"S\",\"C\",\"S\",\"S\",\"S\",\"C\",\"C\",\"S\",\"S\",\"S\",\"S\",\"S\",\"S\",\"S\",\"C\",\"S\",\"S\",\"S\",\"S\",\"S\",\"S\",\"S\",\"S\",\"Q\",\"S\",\"S\",\"S\",\"S\",\"S\",\"S\",\"S\",\"S\",\"S\",\"S\",\"S\",\"S\",\"S\",\"C\",\"C\",\"S\",\"S\",\"S\",\"S\",\"S\",\"S\",\"S\",\"S\",\"S\",\"S\",\"S\",\"Q\",\"S\",\"C\",\"S\",\"S\",\"C\",\"S\",\"Q\",\"S\",\"C\",\"S\",\"S\",\"S\",\"C\",\"S\",\"S\",\"C\",\"Q\",\"S\",\"C\",\"S\",\"C\",\"S\",\"S\",\"S\",\"S\",\"C\",\"S\",\"S\",\"S\",\"C\",\"C\",\"S\",\"S\",\"Q\",\"S\",\"S\",\"S\",\"S\",\"S\",\"S\",\"S\",\"S\",\"S\",\"S\",\"S\",\"C\",\"Q\",\"S\",\"S\",\"S\",\"S\",\"S\",\"S\",\"S\",\"S\",\"S\",\"S\",\"S\",\"S\",\"S\",\"S\",\"Q\",\"S\",\"S\",\"C\",\"S\",\"S\",\"C\",\"S\",\"S\",\"S\",\"C\",\"S\",\"S\",\"S\",\"S\",\"Q\",\"S\",\"Q\",\"S\",\"S\",\"S\",\"S\",\"S\",\"C\",\"C\",\"Q\",\"S\",\"Q\",\"S\",\"S\",\"S\",\"S\",\"C\",\"S\",\"S\",\"S\",\"C\",\"Q\",\"C\",\"S\",\"S\",\"S\",\"S\",\"Q\",\"C\",\"S\",\"S\",\"C\",\"S\",\"S\",\"S\",\"S\",\"S\",\"S\",\"S\",\"S\",\"S\",\"S\",\"S\",\"S\",\"S\",\"S\",\"S\",\"S\",\"S\",\"S\",\"S\",\"S\",\"S\",\"C\",\"Q\",\"S\",\"S\",\"C\",\"Q\",\"S\",\"S\",\"S\",\"S\",\"S\",\"S\",\"S\",\"S\",\"S\",\"C\",\"C\",\"S\",\"C\",\"S\",\"Q\",\"S\",\"S\",\"S\",\"Q\",\"S\",\"S\",\"S\",\"S\",\"S\",\"S\",\"S\",\"S\",\"C\",\"Q\",\"S\",\"S\",\"S\",\"Q\",\"S\",\"Q\",\"S\",\"S\",\"S\",\"S\",\"C\",\"S\",\"S\",\"S\",\"Q\",\"S\",\"C\",\"C\",\"S\",\"S\",\"C\",\"C\",\"S\",\"S\",\"C\",\"Q\",\"Q\",\"S\",\"Q\",\"S\",\"S\",\"C\",\"C\",\"C\",\"C\",\"C\",\"C\",\"S\",\"S\",\"S\",\"S\",\"S\",\"S\",\"S\",\"C\",\"S\",\"S\",\"Q\",\"S\",\"S\",\"C\",\"S\",\"S\",\"S\",\"C\",\"Q\",\"S\",\"S\",\"S\",\"S\",\"S\",\"S\",\"C\",\"S\",\"S\",\"S\",\"S\",\"S\",\"S\",\"S\",\"S\",\"S\",\"S\",\"S\",\"S\",\"S\",\"S\",\"C\",\"S\",\"C\",\"S\",\"S\",\"S\",\"Q\",\"Q\",\"S\",\"C\",\"C\",\"S\",\"Q\",\"S\",\"C\",\"C\",\"Q\",\"C\",\"C\",\"S\",\"S\",\"C\",\"S\",\"C\",\"S\",\"C\",\"C\",\"S\",\"C\",\"C\",\"S\",\"S\",\"S\",\"S\",\"S\",\"S\",\"Q\",\"C\",\"S\",\"S\",\"S\",\"C\",\"S\",\"S\",\"S\",\"S\",\"S\",\"S\",\"S\",\"S\",\"S\",\"S\",\"S\",\"S\",\"S\",\"S\",\"S\",\"S\",\"S\",\"Q\",\"Q\",\"S\",\"S\",\"S\",\"S\",\"S\",\"S\",\"S\",\"C\",\"Q\",\"S\",\"S\",\"S\",\"S\",\"S\",\"S\",\"Q\",\"S\",\"S\",\"S\",\"S\",\"S\",\"S\",\"S\",\"S\",\"S\",\"S\",\"S\",\"S\",\"S\",\"S\",\"S\",\"S\",\"S\",\"S\",\"S\",\"C\",\"S\",\"S\",\"S\",\"C\",\"C\",\"S\",\"C\",\"S\",\"S\",\"S\",\"Q\",\"S\",\"S\",\"S\",\"S\",\"S\",\"S\",\"S\",\"S\",\"Q\",\"C\",\"S\",\"S\",\"S\",\"C\",\"S\",\"S\",\"S\",\"S\",\"S\",\"S\",\"S\",\"S\",\"S\",\"S\",\"C\",\"S\",\"S\",\"C\",\"S\",\"S\",\"S\",\"S\",\"S\",\"C\",\"S\",\"C\",\"C\",\"S\",\"S\",\"S\",\"S\",\"Q\",\"Q\",\"S\",\"S\",\"C\",\"S\",\"S\",\"S\",\"S\",\"Q\",\"S\",\"S\",\"C\",\"S\",\"S\",\"S\",\"Q\",\"S\",\"S\",\"S\",\"S\",\"C\",\"C\",\"C\",\"Q\",\"S\",\"S\",\"S\",\"S\",\"S\",\"C\",\"C\",\"C\",\"S\",\"S\",\"S\",\"C\",\"S\",\"C\",\"S\",\"S\",\"S\",\"S\",\"C\",\"S\",\"S\",\"C\",\"S\",\"S\",\"C\",\"S\",\"Q\",\"C\",\"S\",\"S\",\"C\",\"C\",\"S\",\"S\",\"Q\",\"S\",\"S\",\"S\",\"S\",\"S\",\"S\",\"S\",\"C\",\"S\",\"S\",\"S\",\"S\",\"Q\",\"S\",\"S\",\"S\",\"S\",\"C\",\"S\",\"S\",\"C\",\"S\",\"C\",\"C\",\"S\",\"S\",\"C\",\"S\",\"S\",\"S\",\"C\",\"S\",\"Q\",\"S\",\"S\",\"S\",\"S\",\"C\",\"C\",\"S\",\"S\",\"S\",\"S\",\"C\",\"S\",\"S\",\"S\",\"C\",\"S\",\"S\",\"S\",\"Q\",\"Q\",\"S\",\"S\",\"S\",\"S\",\"S\",\"S\",\"C\",\"S\",\"C\",\"S\",\"S\",\"S\",\"Q\",\"S\",\"S\",\"Q\",\"S\",\"S\",\"C\",\"S\",\"S\",\"S\",\"S\",\"S\",\"S\",\"S\",\"S\",\"C\",\"S\",\"S\",\"C\",\"C\",\"S\",\"C\",\"S\",\"S\",\"S\",\"S\",\"S\",\"Q\",\"Q\",\"S\",\"S\",\"Q\",\"S\",\"C\",\"S\",\"C\",\"S\",\"S\",\"S\",\"S\",\"S\",\"S\",\"S\",\"S\",\"S\",\"S\",\"S\",\"S\",\"S\",\"S\",\"S\",\"S\",\"S\",\"C\",\"Q\",\"C\",\"S\",\"S\",\"S\",\"C\",\"S\",\"S\",\"S\",\"S\",\"S\",\"C\",\"S\",\"C\",\"S\",\"S\",\"S\",\"Q\",\"C\",\"S\",\"C\",\"S\",\"C\",\"Q\",\"S\",\"S\",\"S\",\"S\",\"S\",\"C\",\"C\",\"S\",\"S\",\"S\",\"S\",\"S\",\"C\",\"S\",\"Q\",\"S\",\"S\",\"S\",\"S\",\"S\",\"S\",\"S\",\"S\",\"Q\",\"S\",\"S\",\"S\",\"C\",\"S\",\"S\",\"S\",\"S\",\"S\",\"C\",\"S\",\"S\",\"S\",\"S\",\"C\",\"S\",\"S\",\"S\",\"S\",\"S\",\"S\",\"Q\",\"S\",\"S\",\"S\",\"S\",\"S\",\"S\",\"S\",\"S\",\"S\",\"S\",\"S\",\"S\",\"C\",\"S\",\"S\",\"S\",\"C\",\"Q\",\"Q\",\"S\",\"S\",\"S\",\"S\",\"C\",\"S\",\"S\",\"Q\",\"S\",\"Q\",\"S\",\"C\",\"S\",\"S\",\"S\",\"S\",\"S\",\"S\",\"Q\",\"S\",\"C\",\"Q\",\"S\",\"S\",\"C\",\"S\",\"S\",\"S\",\"S\",\"C\",\"S\",\"S\",\"S\",\"S\",\"C\",\"S\",\"S\",\"S\",\"S\",\"S\",\"S\",\"S\",\"S\",\"S\",\"S\",\"S\",\"S\",\"S\",\"C\",\"S\",\"S\",\"S\",\"S\",\"S\",\"S\",\"S\",\"Q\",\"S\",\"C\",\"Q\",\"S\",\"C\",\"S\",\"C\",\"S\",\"S\",\"C\",\"S\",\"S\",\"S\",\"C\",\"S\",\"S\",\"C\",\"C\",\"S\",\"S\",\"S\",\"C\",\"S\",\"C\",\"S\",\"S\",\"C\",\"S\",\"S\",\"S\",\"S\",\"S\",\"C\",\"C\",\"S\",\"S\",\"S\",\"S\",\"S\",\"S\",\"C\",\"S\",\"S\",\"S\",\"S\",\"S\",\"S\",\"S\",\"C\",\"C\",\"S\",\"S\",\"S\",\"C\",\"S\",\"S\",\"S\",\"S\",\"S\",\"Q\",\"S\",\"S\",\"S\",\"C\",\"Q\",\"Q\",\"S\",\"Q\",\"S\",\"S\",\"S\",\"Q\",\"S\",\"C\",\"S\",\"S\",\"S\",\"S\",\"S\",\"S\",\"C\",\"Q\",\"C\",\"S\",\"C\",\"C\",\"S\",\"S\",\"C\",\"C\",\"S\",\"C\",\"C\",\"S\",\"C\",\"S\",\"S\",\"S\",\"S\",\"C\",\"C\",\"S\",\"S\",\"S\",\"S\",\"C\",\"S\",\"S\",\"S\",\"S\",\"S\",\"C\",\"Q\",\"C\",\"S\",\"S\",\"C\",\"S\",\"S\",\"C\",\"Q\",\"S\",\"S\",\"S\",\"C\",\"S\",\"S\",\"S\",\"Q\",\"C\",\"S\",\"Q\",\"S\",\"C\",\"S\",\"Q\",\"S\",\"S\",\"C\",\"C\",\"C\",\"S\",\"S\",\"S\",\"Q\",\"C\",\"S\",\"S\",\"S\",\"Q\",\"C\",\"Q\",\"S\",\"Q\",\"S\",\"S\",\"S\",\"S\",\"S\",\"C\",\"S\",\"S\",\"S\",\"S\",\"S\",\"C\",\"S\",\"Q\",\"S\",\"C\",\"S\",\"Q\",\"Q\",\"S\",\"S\",\"C\",\"Q\",\"C\",\"Q\",\"S\",\"C\",\"C\",\"S\",\"C\",\"S\",\"S\",\"Q\",\"C\",\"S\",\"Q\",\"S\",\"S\",\"Q\",\"S\",\"S\",\"S\",\"C\",\"S\",\"C\",\"S\",\"S\",\"C\",\"S\",\"S\",\"S\",\"S\",\"S\",\"C\",\"S\",\"S\",\"S\",\"S\",\"S\",\"S\",\"S\",\"C\",\"C\",\"S\",\"S\",\"S\",\"S\",\"S\",\"S\",\"S\",\"S\",\"Q\",\"C\",\"S\",\"S\",\"S\",\"S\",\"C\",\"S\",\"C\",\"S\",\"S\",\"C\",\"S\",\"C\",\"S\",\"S\",\"S\",\"C\",\"S\",\"C\",\"S\",\"C\",\"S\",\"Q\",\"C\",\"S\",\"S\",\"S\",\"S\",\"S\",\"S\",\"S\",\"S\",\"Q\",\"S\",\"S\",\"C\",\"S\",\"S\",\"S\",\"Q\",\"S\",\"C\",\"S\",\"S\",\"C\",\"Q\",\"S\",\"C\",\"S\",\"S\",\"S\",\"S\",\"S\",\"S\",\"S\",\"Q\",\"S\",\"C\",\"S\",\"C\",\"S\",\"S\",\"S\",\"C\",\"C\",\"S\",\"Q\",\"S\",\"S\",\"S\",\"S\",\"S\",\"Q\",\"C\",\"S\",\"C\",\"C\",\"S\",\"C\",\"C\",\"S\",\"C\",\"S\",\"S\",\"S\",\"S\",\"S\",\"S\",\"C\",\"S\",\"S\",\"C\",\"S\",\"S\",\"S\",\"Q\",\"S\",\"S\",\"S\",\"S\",\"S\",\"S\",\"S\",\"C\",\"S\",\"S\",\"S\",\"S\",\"S\",\"C\",\"Q\",\"C\",\"Q\",\"C\",\"S\",\"S\",\"S\",\"S\",\"S\",\"S\",\"S\",\"Q\",\"C\",\"S\",\"S\",\"S\",\"S\",\"C\",\"S\",\"S\",\"Q\",\"C\",\"S\",\"S\",\"S\",\"C\",\"C\",\"S\",\"S\",\"S\",\"C\",\"S\",\"S\",\"Q\",\"S\",\"S\",\"S\",\"S\",\"S\",\"S\",\"C\",\"S\",\"Q\",\"C\",\"Q\",\"C\",\"S\",\"S\",\"S\",\"S\",\"C\",\"S\",\"S\",\"S\",\"S\",\"S\",\"C\",\"S\",\"S\",\"S\",\"C\",\"C\",\"C\",\"S\",\"S\",\"S\",\"C\",\"S\",\"C\",\"S\",\"S\",\"S\",\"C\",\"S\",\"S\",\"S\",\"C\",\"S\",\"S\",\"C\",\"S\",\"S\",\"S\",\"S\",\"S\",\"S\",\"S\",\"Q\",\"S\",\"S\",\"C\",\"S\",\"S\",\"C\",\"S\",\"C\",\"S\",\"C\",\"C\",\"S\",\"C\",\"S\",\"S\",\"S\",\"C\",\"S\",\"S\",\"S\",\"S\",\"Q\",\"Q\",\"S\",\"S\",\"S\",\"S\",\"S\",\"S\",\"Q\",\"S\",\"S\",\"S\",\"S\",\"S\",\"S\",\"S\",\"Q\",\"C\",\"S\",\"Q\",\"S\",\"S\",\"C\",\"S\",\"C\",\"C\",\"S\",\"C\",\"Q\",\"S\",\"Q\",\"Q\",\"S\",\"S\",\"C\",\"S\",\"S\",\"C\"],\"xaxis\":\"x\",\"y\":[0.0,1.0,1.0,1.0,0.0,0.0,0.0,0.0,1.0,1.0,1.0,1.0,0.0,0.0,0.0,1.0,0.0,1.0,0.0,1.0,0.0,1.0,1.0,1.0,0.0,1.0,0.0,0.0,1.0,0.0,0.0,1.0,1.0,0.0,0.0,0.0,1.0,0.0,0.0,1.0,0.0,0.0,0.0,1.0,1.0,0.0,0.0,1.0,0.0,0.0,0.0,0.0,1.0,1.0,0.0,1.0,1.0,0.0,1.0,0.0,0.0,1.0,0.0,0.0,0.0,1.0,1.0,0.0,1.0,0.0,0.0,0.0,0.0,0.0,1.0,0.0,0.0,0.0,1.0,1.0,0.0,1.0,1.0,0.0,1.0,1.0,0.0,0.0,1.0,0.0,0.0,0.0,0.0,0.0,0.0,0.0,0.0,1.0,1.0,0.0,0.0,0.0,0.0,0.0,0.0,0.0,1.0,1.0,0.0,1.0,0.0,0.0,0.0,0.0,0.0,0.0,0.0,0.0,0.0,0.0,0.0,0.0,0.0,1.0,0.0,1.0,0.0,1.0,1.0,0.0,0.0,0.0,0.0,1.0,0.0,0.0,1.0,0.0,0.0,0.0,0.0,1.0,1.0,0.0,0.0,0.0,1.0,0.0,0.0,0.0,0.0,1.0,0.0,0.0,0.0,0.0,1.0,0.0,0.0,0.0,0.0,1.0,0.0,0.0,0.0,1.0,1.0,0.0,0.0,0.0,0.0,0.0,1.0,0.0,0.0,0.0,0.0,0.0,0.0,0.0,0.0,0.0,0.0,1.0,1.0,0.0,1.0,1.0,0.0,0.0,1.0,0.0,1.0,1.0,1.0,1.0,0.0,0.0,1.0,0.0,0.0,0.0,0.0,0.0,1.0,0.0,0.0,1.0,1.0,1.0,0.0,1.0,0.0,0.0,0.0,1.0,1.0,0.0,1.0,0.0,1.0,0.0,0.0,0.0,1.0,0.0,1.0,0.0,0.0,0.0,1.0,0.0,0.0,1.0,0.0,0.0,0.0,1.0,0.0,0.0,0.0,1.0,0.0,0.0,0.0,0.0,0.0,1.0,1.0,0.0,0.0,0.0,0.0,0.0,0.0,1.0,1.0,1.0,1.0,1.0,0.0,1.0,0.0,0.0,0.0,0.0,0.0,1.0,1.0,1.0,0.0,1.0,1.0,0.0,1.0,1.0,0.0,0.0,0.0,1.0,0.0,0.0,0.0,1.0,0.0,0.0,1.0,0.0,1.0,1.0,1.0,1.0,0.0,0.0,0.0,0.0,0.0,0.0,1.0,1.0,1.0,1.0,0.0,1.0,0.0,1.0,1.0,1.0,0.0,1.0,1.0,1.0,0.0,0.0,0.0,1.0,1.0,0.0,1.0,1.0,0.0,0.0,1.0,1.0,0.0,1.0,0.0,1.0,1.0,1.0,1.0,0.0,0.0,0.0,1.0,0.0,0.0,1.0,1.0,0.0,1.0,1.0,0.0,0.0,0.0,1.0,1.0,1.0,1.0,0.0,0.0,0.0,0.0,0.0,0.0,0.0,1.0,0.0,1.0,1.0,0.0,0.0,0.0,0.0,0.0,0.0,1.0,1.0,1.0,1.0,1.0,0.0,0.0,0.0,0.0,1.0,1.0,0.0,0.0,0.0,1.0,1.0,0.0,1.0,0.0,0.0,0.0,1.0,0.0,1.0,1.0,1.0,0.0,1.0,1.0,0.0,0.0,0.0,0.0,1.0,1.0,0.0,0.0,0.0,0.0,0.0,0.0,1.0,0.0,0.0,0.0,0.0,1.0,0.0,1.0,0.0,1.0,1.0,0.0,0.0,0.0,0.0,0.0,0.0,0.0,0.0,1.0,1.0,0.0,1.0,1.0,1.0,1.0,0.0,0.0,1.0,0.0,1.0,0.0,0.0,1.0,0.0,0.0,1.0,1.0,1.0,1.0,1.0,1.0,1.0,0.0,0.0,0.0,1.0,0.0,1.0,0.0,1.0,1.0,0.0,1.0,0.0,0.0,0.0,0.0,0.0,0.0,0.0,0.0,1.0,0.0,0.0,1.0,1.0,0.0,0.0,0.0,0.0,0.0,1.0,0.0,0.0,0.0,1.0,1.0,0.0,1.0,0.0,0.0,1.0,0.0,0.0,0.0,0.0,0.0,0.0,1.0,0.0,0.0,0.0,0.0,0.0,0.0,0.0,1.0,0.0,1.0,1.0,0.0,1.0,1.0,0.0,1.0,1.0,0.0,0.0,1.0,0.0,1.0,0.0,1.0,0.0,0.0,1.0,0.0,0.0,1.0,0.0,0.0,0.0,1.0,0.0,0.0,1.0,0.0,1.0,0.0,1.0,0.0,1.0,1.0,0.0,0.0,1.0,0.0,0.0,1.0,1.0,0.0,1.0,1.0,0.0,0.0,1.0,1.0,0.0,1.0,0.0,1.0,1.0,0.0,0.0,0.0,0.0,0.0,0.0,0.0,0.0,0.0,1.0,1.0,1.0,1.0,1.0,0.0,0.0,1.0,1.0,0.0,1.0,1.0,1.0,0.0,0.0,0.0,1.0,0.0,1.0,0.0,0.0,0.0,1.0,0.0,0.0,0.0,0.0,1.0,0.0,0.0,1.0,1.0,0.0,0.0,0.0,1.0,0.0,0.0,1.0,1.0,1.0,0.0,0.0,1.0,0.0,0.0,1.0,0.0,0.0,1.0,0.0,0.0,1.0,1.0,0.0,0.0,0.0,0.0,1.0,0.0,0.0,1.0,0.0,1.0,0.0,0.0,1.0,0.0,0.0,0.0,0.0,0.0,1.0,0.0,1.0,1.0,1.0,0.0,1.0,0.0,1.0,0.0,1.0,0.0,1.0,0.0,0.0,0.0,0.0,0.0,0.0,1.0,0.0,0.0,0.0,1.0,0.0,0.0,0.0,0.0,1.0,1.0,0.0,0.0,1.0,0.0,0.0,0.0,1.0,0.0,1.0,0.0,1.0,0.0,0.0,0.0,0.0,0.0,0.0,0.0,1.0,1.0,1.0,1.0,0.0,0.0,0.0,0.0,1.0,0.0,0.0,1.0,1.0,0.0,0.0,0.0,0.0,1.0,1.0,1.0,1.0,1.0,0.0,1.0,0.0,0.0,0.0,1.0,1.0,0.0,0.0,1.0,0.0,0.0,0.0,1.0,0.0,1.0,1.0,0.0,0.0,1.0,0.0,0.0,0.0,0.0,0.0,0.0,1.0,0.0,0.0,1.0,0.0,1.0,0.0,1.0,0.0,0.0,1.0,0.0,0.0,1.0,1.0,0.0,0.0,1.0,1.0,0.0,0.0,0.0,1.0,0.0,0.0,1.0,1.0,0.0,1.0,0.0,0.0,0.0,0.0,0.0,0.0,0.0,0.0,1.0,0.0,0.0,1.0,0.0,1.0,1.0,1.0,0.0,0.0,0.0,0.0,1.0,0.0,1.0,0.0,0.0,0.0,0.0,0.0,0.0,0.0,1.0,1.0,0.0,0.0,0.0,1.0,1.0,1.0,1.0,0.0,0.0,0.0,0.0,1.0,0.0,0.0,0.0,0.0,0.0,0.0,0.0,0.0,0.0,0.0,1.0,1.0,0.0,1.0,0.0,0.0,0.0,1.0,1.0,1.0,1.0,1.0,0.0,0.0,0.0,1.0,0.0,0.0,1.0,1.0,0.0,0.0,1.0,0.0,0.0,0.0,0.0,0.0,0.0,1.0,0.0,0.0,0.0,1.0,0.0,1.0,1.0,1.0,1.0,0.0,0.0,0.0,1.0,0.0,0.0,1.0,1.0,0.0,0.0,1.0,0.0,1.0,0.0,0.0,1.0,1.0,0.0,0.0,0.0,1.0,1.0,0.0,0.0,0.0,0.0,0.0,0.0,1.0,0.0,1.0,0.0,null,null,null,null,null,null,null,null,null,null,null,null,null,null,null,null,null,null,null,null,null,null,null,null,null,null,null,null,null,null,null,null,null,null,null,null,null,null,null,null,null,null,null,null,null,null,null,null,null,null,null,null,null,null,null,null,null,null,null,null,null,null,null,null,null,null,null,null,null,null,null,null,null,null,null,null,null,null,null,null,null,null,null,null,null,null,null,null,null,null,null,null,null,null,null,null,null,null,null,null,null,null,null,null,null,null,null,null,null,null,null,null,null,null,null,null,null,null,null,null,null,null,null,null,null,null,null,null,null,null,null,null,null,null,null,null,null,null,null,null,null,null,null,null,null,null,null,null,null,null,null,null,null,null,null,null,null,null,null,null,null,null,null,null,null,null,null,null,null,null,null,null,null,null,null,null,null,null,null,null,null,null,null,null,null,null,null,null,null,null,null,null,null,null,null,null,null,null,null,null,null,null,null,null,null,null,null,null,null,null,null,null,null,null,null,null,null,null,null,null,null,null,null,null,null,null,null,null,null,null,null,null,null,null,null,null,null,null,null,null,null,null,null,null,null,null,null,null,null,null,null,null,null,null,null,null,null,null,null,null,null,null,null,null,null,null,null,null,null,null,null,null,null,null,null,null,null,null,null,null,null,null,null,null,null,null,null,null,null,null,null,null,null,null,null,null,null,null,null,null,null,null,null,null,null,null,null,null,null,null,null,null,null,null,null,null,null,null,null,null,null,null,null,null,null,null,null,null,null,null,null,null,null,null,null,null,null,null,null,null,null,null,null,null,null,null,null,null,null,null,null,null,null,null,null,null,null,null,null,null,null,null,null,null,null,null,null,null,null,null,null,null,null,null,null,null,null,null,null,null,null,null,null,null,null,null,null,null,null,null,null,null,null,null,null,null,null,null,null,null,null,null,null,null,null,null,null,null,null,null,null,null,null,null,null,null,null,null],\"yaxis\":\"y\",\"type\":\"histogram\"}],                        {\"template\":{\"data\":{\"bar\":[{\"error_x\":{\"color\":\"#2a3f5f\"},\"error_y\":{\"color\":\"#2a3f5f\"},\"marker\":{\"line\":{\"color\":\"#E5ECF6\",\"width\":0.5},\"pattern\":{\"fillmode\":\"overlay\",\"size\":10,\"solidity\":0.2}},\"type\":\"bar\"}],\"barpolar\":[{\"marker\":{\"line\":{\"color\":\"#E5ECF6\",\"width\":0.5},\"pattern\":{\"fillmode\":\"overlay\",\"size\":10,\"solidity\":0.2}},\"type\":\"barpolar\"}],\"carpet\":[{\"aaxis\":{\"endlinecolor\":\"#2a3f5f\",\"gridcolor\":\"white\",\"linecolor\":\"white\",\"minorgridcolor\":\"white\",\"startlinecolor\":\"#2a3f5f\"},\"baxis\":{\"endlinecolor\":\"#2a3f5f\",\"gridcolor\":\"white\",\"linecolor\":\"white\",\"minorgridcolor\":\"white\",\"startlinecolor\":\"#2a3f5f\"},\"type\":\"carpet\"}],\"choropleth\":[{\"colorbar\":{\"outlinewidth\":0,\"ticks\":\"\"},\"type\":\"choropleth\"}],\"contour\":[{\"colorbar\":{\"outlinewidth\":0,\"ticks\":\"\"},\"colorscale\":[[0.0,\"#0d0887\"],[0.1111111111111111,\"#46039f\"],[0.2222222222222222,\"#7201a8\"],[0.3333333333333333,\"#9c179e\"],[0.4444444444444444,\"#bd3786\"],[0.5555555555555556,\"#d8576b\"],[0.6666666666666666,\"#ed7953\"],[0.7777777777777778,\"#fb9f3a\"],[0.8888888888888888,\"#fdca26\"],[1.0,\"#f0f921\"]],\"type\":\"contour\"}],\"contourcarpet\":[{\"colorbar\":{\"outlinewidth\":0,\"ticks\":\"\"},\"type\":\"contourcarpet\"}],\"heatmap\":[{\"colorbar\":{\"outlinewidth\":0,\"ticks\":\"\"},\"colorscale\":[[0.0,\"#0d0887\"],[0.1111111111111111,\"#46039f\"],[0.2222222222222222,\"#7201a8\"],[0.3333333333333333,\"#9c179e\"],[0.4444444444444444,\"#bd3786\"],[0.5555555555555556,\"#d8576b\"],[0.6666666666666666,\"#ed7953\"],[0.7777777777777778,\"#fb9f3a\"],[0.8888888888888888,\"#fdca26\"],[1.0,\"#f0f921\"]],\"type\":\"heatmap\"}],\"heatmapgl\":[{\"colorbar\":{\"outlinewidth\":0,\"ticks\":\"\"},\"colorscale\":[[0.0,\"#0d0887\"],[0.1111111111111111,\"#46039f\"],[0.2222222222222222,\"#7201a8\"],[0.3333333333333333,\"#9c179e\"],[0.4444444444444444,\"#bd3786\"],[0.5555555555555556,\"#d8576b\"],[0.6666666666666666,\"#ed7953\"],[0.7777777777777778,\"#fb9f3a\"],[0.8888888888888888,\"#fdca26\"],[1.0,\"#f0f921\"]],\"type\":\"heatmapgl\"}],\"histogram\":[{\"marker\":{\"pattern\":{\"fillmode\":\"overlay\",\"size\":10,\"solidity\":0.2}},\"type\":\"histogram\"}],\"histogram2d\":[{\"colorbar\":{\"outlinewidth\":0,\"ticks\":\"\"},\"colorscale\":[[0.0,\"#0d0887\"],[0.1111111111111111,\"#46039f\"],[0.2222222222222222,\"#7201a8\"],[0.3333333333333333,\"#9c179e\"],[0.4444444444444444,\"#bd3786\"],[0.5555555555555556,\"#d8576b\"],[0.6666666666666666,\"#ed7953\"],[0.7777777777777778,\"#fb9f3a\"],[0.8888888888888888,\"#fdca26\"],[1.0,\"#f0f921\"]],\"type\":\"histogram2d\"}],\"histogram2dcontour\":[{\"colorbar\":{\"outlinewidth\":0,\"ticks\":\"\"},\"colorscale\":[[0.0,\"#0d0887\"],[0.1111111111111111,\"#46039f\"],[0.2222222222222222,\"#7201a8\"],[0.3333333333333333,\"#9c179e\"],[0.4444444444444444,\"#bd3786\"],[0.5555555555555556,\"#d8576b\"],[0.6666666666666666,\"#ed7953\"],[0.7777777777777778,\"#fb9f3a\"],[0.8888888888888888,\"#fdca26\"],[1.0,\"#f0f921\"]],\"type\":\"histogram2dcontour\"}],\"mesh3d\":[{\"colorbar\":{\"outlinewidth\":0,\"ticks\":\"\"},\"type\":\"mesh3d\"}],\"parcoords\":[{\"line\":{\"colorbar\":{\"outlinewidth\":0,\"ticks\":\"\"}},\"type\":\"parcoords\"}],\"pie\":[{\"automargin\":true,\"type\":\"pie\"}],\"scatter\":[{\"marker\":{\"colorbar\":{\"outlinewidth\":0,\"ticks\":\"\"}},\"type\":\"scatter\"}],\"scatter3d\":[{\"line\":{\"colorbar\":{\"outlinewidth\":0,\"ticks\":\"\"}},\"marker\":{\"colorbar\":{\"outlinewidth\":0,\"ticks\":\"\"}},\"type\":\"scatter3d\"}],\"scattercarpet\":[{\"marker\":{\"colorbar\":{\"outlinewidth\":0,\"ticks\":\"\"}},\"type\":\"scattercarpet\"}],\"scattergeo\":[{\"marker\":{\"colorbar\":{\"outlinewidth\":0,\"ticks\":\"\"}},\"type\":\"scattergeo\"}],\"scattergl\":[{\"marker\":{\"colorbar\":{\"outlinewidth\":0,\"ticks\":\"\"}},\"type\":\"scattergl\"}],\"scattermapbox\":[{\"marker\":{\"colorbar\":{\"outlinewidth\":0,\"ticks\":\"\"}},\"type\":\"scattermapbox\"}],\"scatterpolar\":[{\"marker\":{\"colorbar\":{\"outlinewidth\":0,\"ticks\":\"\"}},\"type\":\"scatterpolar\"}],\"scatterpolargl\":[{\"marker\":{\"colorbar\":{\"outlinewidth\":0,\"ticks\":\"\"}},\"type\":\"scatterpolargl\"}],\"scatterternary\":[{\"marker\":{\"colorbar\":{\"outlinewidth\":0,\"ticks\":\"\"}},\"type\":\"scatterternary\"}],\"surface\":[{\"colorbar\":{\"outlinewidth\":0,\"ticks\":\"\"},\"colorscale\":[[0.0,\"#0d0887\"],[0.1111111111111111,\"#46039f\"],[0.2222222222222222,\"#7201a8\"],[0.3333333333333333,\"#9c179e\"],[0.4444444444444444,\"#bd3786\"],[0.5555555555555556,\"#d8576b\"],[0.6666666666666666,\"#ed7953\"],[0.7777777777777778,\"#fb9f3a\"],[0.8888888888888888,\"#fdca26\"],[1.0,\"#f0f921\"]],\"type\":\"surface\"}],\"table\":[{\"cells\":{\"fill\":{\"color\":\"#EBF0F8\"},\"line\":{\"color\":\"white\"}},\"header\":{\"fill\":{\"color\":\"#C8D4E3\"},\"line\":{\"color\":\"white\"}},\"type\":\"table\"}]},\"layout\":{\"annotationdefaults\":{\"arrowcolor\":\"#2a3f5f\",\"arrowhead\":0,\"arrowwidth\":1},\"autotypenumbers\":\"strict\",\"coloraxis\":{\"colorbar\":{\"outlinewidth\":0,\"ticks\":\"\"}},\"colorscale\":{\"diverging\":[[0,\"#8e0152\"],[0.1,\"#c51b7d\"],[0.2,\"#de77ae\"],[0.3,\"#f1b6da\"],[0.4,\"#fde0ef\"],[0.5,\"#f7f7f7\"],[0.6,\"#e6f5d0\"],[0.7,\"#b8e186\"],[0.8,\"#7fbc41\"],[0.9,\"#4d9221\"],[1,\"#276419\"]],\"sequential\":[[0.0,\"#0d0887\"],[0.1111111111111111,\"#46039f\"],[0.2222222222222222,\"#7201a8\"],[0.3333333333333333,\"#9c179e\"],[0.4444444444444444,\"#bd3786\"],[0.5555555555555556,\"#d8576b\"],[0.6666666666666666,\"#ed7953\"],[0.7777777777777778,\"#fb9f3a\"],[0.8888888888888888,\"#fdca26\"],[1.0,\"#f0f921\"]],\"sequentialminus\":[[0.0,\"#0d0887\"],[0.1111111111111111,\"#46039f\"],[0.2222222222222222,\"#7201a8\"],[0.3333333333333333,\"#9c179e\"],[0.4444444444444444,\"#bd3786\"],[0.5555555555555556,\"#d8576b\"],[0.6666666666666666,\"#ed7953\"],[0.7777777777777778,\"#fb9f3a\"],[0.8888888888888888,\"#fdca26\"],[1.0,\"#f0f921\"]]},\"colorway\":[\"#636efa\",\"#EF553B\",\"#00cc96\",\"#ab63fa\",\"#FFA15A\",\"#19d3f3\",\"#FF6692\",\"#B6E880\",\"#FF97FF\",\"#FECB52\"],\"font\":{\"color\":\"#2a3f5f\"},\"geo\":{\"bgcolor\":\"white\",\"lakecolor\":\"white\",\"landcolor\":\"#E5ECF6\",\"showlakes\":true,\"showland\":true,\"subunitcolor\":\"white\"},\"hoverlabel\":{\"align\":\"left\"},\"hovermode\":\"closest\",\"mapbox\":{\"style\":\"light\"},\"paper_bgcolor\":\"white\",\"plot_bgcolor\":\"#E5ECF6\",\"polar\":{\"angularaxis\":{\"gridcolor\":\"white\",\"linecolor\":\"white\",\"ticks\":\"\"},\"bgcolor\":\"#E5ECF6\",\"radialaxis\":{\"gridcolor\":\"white\",\"linecolor\":\"white\",\"ticks\":\"\"}},\"scene\":{\"xaxis\":{\"backgroundcolor\":\"#E5ECF6\",\"gridcolor\":\"white\",\"gridwidth\":2,\"linecolor\":\"white\",\"showbackground\":true,\"ticks\":\"\",\"zerolinecolor\":\"white\"},\"yaxis\":{\"backgroundcolor\":\"#E5ECF6\",\"gridcolor\":\"white\",\"gridwidth\":2,\"linecolor\":\"white\",\"showbackground\":true,\"ticks\":\"\",\"zerolinecolor\":\"white\"},\"zaxis\":{\"backgroundcolor\":\"#E5ECF6\",\"gridcolor\":\"white\",\"gridwidth\":2,\"linecolor\":\"white\",\"showbackground\":true,\"ticks\":\"\",\"zerolinecolor\":\"white\"}},\"shapedefaults\":{\"line\":{\"color\":\"#2a3f5f\"}},\"ternary\":{\"aaxis\":{\"gridcolor\":\"white\",\"linecolor\":\"white\",\"ticks\":\"\"},\"baxis\":{\"gridcolor\":\"white\",\"linecolor\":\"white\",\"ticks\":\"\"},\"bgcolor\":\"#E5ECF6\",\"caxis\":{\"gridcolor\":\"white\",\"linecolor\":\"white\",\"ticks\":\"\"}},\"title\":{\"x\":0.05},\"xaxis\":{\"automargin\":true,\"gridcolor\":\"white\",\"linecolor\":\"white\",\"ticks\":\"\",\"title\":{\"standoff\":15},\"zerolinecolor\":\"white\",\"zerolinewidth\":2},\"yaxis\":{\"automargin\":true,\"gridcolor\":\"white\",\"linecolor\":\"white\",\"ticks\":\"\",\"title\":{\"standoff\":15},\"zerolinecolor\":\"white\",\"zerolinewidth\":2}}},\"xaxis\":{\"anchor\":\"y\",\"domain\":[0.0,1.0],\"title\":{\"text\":\"Embarked\"}},\"yaxis\":{\"anchor\":\"x\",\"domain\":[0.0,1.0],\"title\":{\"text\":\"sum of Survived\"}},\"legend\":{\"tracegroupgap\":0},\"margin\":{\"t\":60},\"barmode\":\"relative\"},                        {\"responsive\": true}                    ).then(function(){\n",
              "                            \n",
              "var gd = document.getElementById('ce21d13c-e695-4db3-8488-3a2409948596');\n",
              "var x = new MutationObserver(function (mutations, observer) {{\n",
              "        var display = window.getComputedStyle(gd).display;\n",
              "        if (!display || display === 'none') {{\n",
              "            console.log([gd, 'removed!']);\n",
              "            Plotly.purge(gd);\n",
              "            observer.disconnect();\n",
              "        }}\n",
              "}});\n",
              "\n",
              "// Listen for the removal of the full notebook cells\n",
              "var notebookContainer = gd.closest('#notebook-container');\n",
              "if (notebookContainer) {{\n",
              "    x.observe(notebookContainer, {childList: true});\n",
              "}}\n",
              "\n",
              "// Listen for the clearing of the current output cell\n",
              "var outputEl = gd.closest('.output');\n",
              "if (outputEl) {{\n",
              "    x.observe(outputEl, {childList: true});\n",
              "}}\n",
              "\n",
              "                        })                };                            </script>        </div>\n",
              "</body>\n",
              "</html>"
            ]
          },
          "metadata": {}
        }
      ]
    },
    {
      "cell_type": "code",
      "source": [
        ""
      ],
      "metadata": {
        "id": "-uSONcm0BFKY"
      },
      "execution_count": null,
      "outputs": []
    },
    {
      "cell_type": "code",
      "source": [
        ""
      ],
      "metadata": {
        "id": "P13YL1a6BFGa"
      },
      "execution_count": null,
      "outputs": []
    },
    {
      "cell_type": "code",
      "source": [
        ""
      ],
      "metadata": {
        "id": "Jtq_VPfRBFCp"
      },
      "execution_count": null,
      "outputs": []
    },
    {
      "cell_type": "code",
      "source": [
        ""
      ],
      "metadata": {
        "id": "TwyDUPwMBE_A"
      },
      "execution_count": null,
      "outputs": []
    },
    {
      "cell_type": "code",
      "source": [
        ""
      ],
      "metadata": {
        "id": "PhCvhHFIBE8q"
      },
      "execution_count": null,
      "outputs": []
    }
  ]
}